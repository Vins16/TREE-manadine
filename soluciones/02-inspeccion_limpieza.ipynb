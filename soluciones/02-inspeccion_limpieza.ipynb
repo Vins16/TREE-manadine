{
 "cells": [
  {
   "cell_type": "markdown",
   "metadata": {},
   "source": [
    "### Limpieza e inspección de los datos"
   ]
  },
  {
   "cell_type": "markdown",
   "metadata": {},
   "source": [
    "Este notebook está esturcturado como sigue:\n",
    "\n",
    "- **Importación de librerias**\n",
    "- **Bloque A**: carga de los datos.\n",
    "- **Bloque B**: inspección de los datos.\n",
    "- **Bloque C**: limpieza y adecuación.\n",
    "- **Bloque D**: exportación del conjunto resultante."
   ]
  },
  {
   "cell_type": "markdown",
   "metadata": {},
   "source": [
    "### Importación librerias"
   ]
  },
  {
   "cell_type": "code",
   "execution_count": 2,
   "metadata": {},
   "outputs": [],
   "source": [
    "import pandas as pd\n",
    "import re\n",
    "\n",
    "import cld3"
   ]
  },
  {
   "cell_type": "markdown",
   "metadata": {},
   "source": [
    "### BLOQUE A: Carga de los datos"
   ]
  },
  {
   "cell_type": "markdown",
   "metadata": {},
   "source": [
    "**Pandas**: librería más popular de python que proporciona las herramientas y estructuras necesarias para manipular y analizar datos. La estructura básica de Pandas es el **DataFrame**, una colección ordenada de columnas con nombres y tipos, donde una sola fila representa un único caso (observación) y las columnas representan atributos particulares.\n",
    "\n",
    "Guía: https://pandas.pydata.org/docs/getting_started/index.html"
   ]
  },
  {
   "cell_type": "code",
   "execution_count": 3,
   "metadata": {},
   "outputs": [],
   "source": [
    "# Leemos el CSV que contiene los datos y lo cargamos en memoria\n",
    "df = pd.read_csv(\"../data/amazon_reviews.csv\")"
   ]
  },
  {
   "cell_type": "code",
   "execution_count": 6,
   "metadata": {},
   "outputs": [
    {
     "data": {
      "text/plain": [
       "(12000, 3)"
      ]
     },
     "execution_count": 6,
     "metadata": {},
     "output_type": "execute_result"
    }
   ],
   "source": [
    "df.shape"
   ]
  },
  {
   "cell_type": "markdown",
   "metadata": {},
   "source": [
    "### BLOQUE B: inspección de los datos"
   ]
  },
  {
   "cell_type": "markdown",
   "metadata": {},
   "source": [
    "El objetivo de la inspección es la familiarización con el conjunto de datos. Algunas preguntas iniciales que podría estar bien hacerse pueden ser:\n",
    "\n",
    "- ¿En qué tipo de objeto están almacenados los datos?\n",
    "- ¿Cuál es su dimensión?\n",
    "- ¿Hay datos ausentes?\n",
    "- ¿Que tipos diferentes de datos hay?\n",
    "- ..."
   ]
  },
  {
   "cell_type": "code",
   "execution_count": 9,
   "metadata": {},
   "outputs": [
    {
     "data": {
      "text/plain": [
       "pandas.core.frame.DataFrame"
      ]
     },
     "execution_count": 9,
     "metadata": {},
     "output_type": "execute_result"
    }
   ],
   "source": [
    "# Ver el tipo de objeto con el que estamos trabajando\n",
    "type(df)"
   ]
  },
  {
   "cell_type": "code",
   "execution_count": 10,
   "metadata": {},
   "outputs": [
    {
     "data": {
      "text/plain": [
       "(12000, 3)"
      ]
     },
     "execution_count": 10,
     "metadata": {},
     "output_type": "execute_result"
    }
   ],
   "source": [
    "# Dimensiones del dataframe\n",
    "df.shape"
   ]
  },
  {
   "cell_type": "code",
   "execution_count": 11,
   "metadata": {},
   "outputs": [
    {
     "name": "stdout",
     "output_type": "stream",
     "text": [
      "Hay un dataframe de 12000 filas y 3 columnas.\n"
     ]
    }
   ],
   "source": [
    "# Otra manera más interesante de proporcionar la misma información anterior\n",
    "print(f\"Hay un dataframe de {df.shape[0]} filas y {df.shape[1]} columnas.\")"
   ]
  },
  {
   "cell_type": "code",
   "execution_count": 12,
   "metadata": {},
   "outputs": [
    {
     "name": "stdout",
     "output_type": "stream",
     "text": [
      "<class 'pandas.core.frame.DataFrame'>\n",
      "Int64Index: 12000 entries, 10646 to 16734\n",
      "Data columns (total 3 columns):\n",
      " #   Column        Non-Null Count  Dtype \n",
      "---  ------        --------------  ----- \n",
      " 0   class_index   12000 non-null  int64 \n",
      " 1   review_title  12000 non-null  object\n",
      " 2   review_text   12000 non-null  object\n",
      "dtypes: int64(1), object(2)\n",
      "memory usage: 375.0+ KB\n"
     ]
    }
   ],
   "source": [
    "# Resumen conciso del dataframe\n",
    "df.info()"
   ]
  },
  {
   "cell_type": "code",
   "execution_count": 13,
   "metadata": {},
   "outputs": [
    {
     "data": {
      "text/html": [
       "<div>\n",
       "<style scoped>\n",
       "    .dataframe tbody tr th:only-of-type {\n",
       "        vertical-align: middle;\n",
       "    }\n",
       "\n",
       "    .dataframe tbody tr th {\n",
       "        vertical-align: top;\n",
       "    }\n",
       "\n",
       "    .dataframe thead th {\n",
       "        text-align: right;\n",
       "    }\n",
       "</style>\n",
       "<table border=\"1\" class=\"dataframe\">\n",
       "  <thead>\n",
       "    <tr style=\"text-align: right;\">\n",
       "      <th></th>\n",
       "      <th>class_index</th>\n",
       "      <th>review_title</th>\n",
       "      <th>review_text</th>\n",
       "    </tr>\n",
       "  </thead>\n",
       "  <tbody>\n",
       "    <tr>\n",
       "      <th>10646</th>\n",
       "      <td>1</td>\n",
       "      <td>Volume problems</td>\n",
       "      <td>I just got this player and it's been nothing b...</td>\n",
       "    </tr>\n",
       "    <tr>\n",
       "      <th>14819</th>\n",
       "      <td>1</td>\n",
       "      <td>Too Many Errors</td>\n",
       "      <td>It does seem to have all the food known to Cze...</td>\n",
       "    </tr>\n",
       "    <tr>\n",
       "      <th>292</th>\n",
       "      <td>1</td>\n",
       "      <td>too bulky</td>\n",
       "      <td>They are SOOOO bulky, and it seems they don't ...</td>\n",
       "    </tr>\n",
       "    <tr>\n",
       "      <th>23657</th>\n",
       "      <td>1</td>\n",
       "      <td>Bra</td>\n",
       "      <td>Very poor support and material is not of a goo...</td>\n",
       "    </tr>\n",
       "    <tr>\n",
       "      <th>19254</th>\n",
       "      <td>2</td>\n",
       "      <td>Coloring as Meditation...</td>\n",
       "      <td>Scherek's \"Celestial Beings\" are simply heaven...</td>\n",
       "    </tr>\n",
       "  </tbody>\n",
       "</table>\n",
       "</div>"
      ],
      "text/plain": [
       "       class_index               review_title  \\\n",
       "10646            1            Volume problems   \n",
       "14819            1            Too Many Errors   \n",
       "292              1                  too bulky   \n",
       "23657            1                        Bra   \n",
       "19254            2  Coloring as Meditation...   \n",
       "\n",
       "                                             review_text  \n",
       "10646  I just got this player and it's been nothing b...  \n",
       "14819  It does seem to have all the food known to Cze...  \n",
       "292    They are SOOOO bulky, and it seems they don't ...  \n",
       "23657  Very poor support and material is not of a goo...  \n",
       "19254  Scherek's \"Celestial Beings\" are simply heaven...  "
      ]
     },
     "execution_count": 13,
     "metadata": {},
     "output_type": "execute_result"
    }
   ],
   "source": [
    "# Mostrar las primeras 5 filas\n",
    "df.head()"
   ]
  },
  {
   "cell_type": "code",
   "execution_count": 14,
   "metadata": {},
   "outputs": [
    {
     "data": {
      "text/html": [
       "<div>\n",
       "<style scoped>\n",
       "    .dataframe tbody tr th:only-of-type {\n",
       "        vertical-align: middle;\n",
       "    }\n",
       "\n",
       "    .dataframe tbody tr th {\n",
       "        vertical-align: top;\n",
       "    }\n",
       "\n",
       "    .dataframe thead th {\n",
       "        text-align: right;\n",
       "    }\n",
       "</style>\n",
       "<table border=\"1\" class=\"dataframe\">\n",
       "  <thead>\n",
       "    <tr style=\"text-align: right;\">\n",
       "      <th></th>\n",
       "      <th>class_index</th>\n",
       "      <th>review_title</th>\n",
       "      <th>review_text</th>\n",
       "    </tr>\n",
       "  </thead>\n",
       "  <tbody>\n",
       "    <tr>\n",
       "      <th>37</th>\n",
       "      <td>1</td>\n",
       "      <td>OK, until it cracked</td>\n",
       "      <td>I thought I'd gotten a great deal on these att...</td>\n",
       "    </tr>\n",
       "    <tr>\n",
       "      <th>10954</th>\n",
       "      <td>2</td>\n",
       "      <td>Levis at a good price fast shipping</td>\n",
       "      <td>The Levis were at a good price, the seller shi...</td>\n",
       "    </tr>\n",
       "    <tr>\n",
       "      <th>17080</th>\n",
       "      <td>2</td>\n",
       "      <td>Love it</td>\n",
       "      <td>This is so helpful for my classroom. I am a to...</td>\n",
       "    </tr>\n",
       "    <tr>\n",
       "      <th>4372</th>\n",
       "      <td>1</td>\n",
       "      <td>Adidas axion shoes</td>\n",
       "      <td>I bought these for aerobics class, but they di...</td>\n",
       "    </tr>\n",
       "    <tr>\n",
       "      <th>16734</th>\n",
       "      <td>2</td>\n",
       "      <td>a pretty good buy</td>\n",
       "      <td>The games in this book require few props, whic...</td>\n",
       "    </tr>\n",
       "  </tbody>\n",
       "</table>\n",
       "</div>"
      ],
      "text/plain": [
       "       class_index                         review_title  \\\n",
       "37               1                 OK, until it cracked   \n",
       "10954            2  Levis at a good price fast shipping   \n",
       "17080            2                              Love it   \n",
       "4372             1                   Adidas axion shoes   \n",
       "16734            2                    a pretty good buy   \n",
       "\n",
       "                                             review_text  \n",
       "37     I thought I'd gotten a great deal on these att...  \n",
       "10954  The Levis were at a good price, the seller shi...  \n",
       "17080  This is so helpful for my classroom. I am a to...  \n",
       "4372   I bought these for aerobics class, but they di...  \n",
       "16734  The games in this book require few props, whic...  "
      ]
     },
     "execution_count": 14,
     "metadata": {},
     "output_type": "execute_result"
    }
   ],
   "source": [
    "# Mostrar las últimas 5 filas\n",
    "df.tail()"
   ]
  },
  {
   "cell_type": "code",
   "execution_count": 15,
   "metadata": {},
   "outputs": [
    {
     "data": {
      "text/plain": [
       "array([1, 2])"
      ]
     },
     "execution_count": 15,
     "metadata": {},
     "output_type": "execute_result"
    }
   ],
   "source": [
    "# ¿Cuáles son los posibles valores que puede tomar la variable 'class_index'?\n",
    "df['class_index'].unique()"
   ]
  },
  {
   "cell_type": "markdown",
   "metadata": {},
   "source": [
    "La variable \"class_index\" indica el sentimiento de cada reseña:\n",
    "\n",
    "- 1: sentimiento negativo\n",
    "- 2: sentimiento positivo"
   ]
  },
  {
   "cell_type": "markdown",
   "metadata": {},
   "source": [
    "### BLOQUE C: limpieza y adecuación"
   ]
  },
  {
   "cell_type": "code",
   "execution_count": 16,
   "metadata": {},
   "outputs": [
    {
     "data": {
      "text/html": [
       "<div>\n",
       "<style scoped>\n",
       "    .dataframe tbody tr th:only-of-type {\n",
       "        vertical-align: middle;\n",
       "    }\n",
       "\n",
       "    .dataframe tbody tr th {\n",
       "        vertical-align: top;\n",
       "    }\n",
       "\n",
       "    .dataframe thead th {\n",
       "        text-align: right;\n",
       "    }\n",
       "</style>\n",
       "<table border=\"1\" class=\"dataframe\">\n",
       "  <thead>\n",
       "    <tr style=\"text-align: right;\">\n",
       "      <th></th>\n",
       "      <th>class_index</th>\n",
       "      <th>review_text</th>\n",
       "    </tr>\n",
       "  </thead>\n",
       "  <tbody>\n",
       "    <tr>\n",
       "      <th>10646</th>\n",
       "      <td>1</td>\n",
       "      <td>I just got this player and it's been nothing b...</td>\n",
       "    </tr>\n",
       "    <tr>\n",
       "      <th>14819</th>\n",
       "      <td>1</td>\n",
       "      <td>It does seem to have all the food known to Cze...</td>\n",
       "    </tr>\n",
       "    <tr>\n",
       "      <th>292</th>\n",
       "      <td>1</td>\n",
       "      <td>They are SOOOO bulky, and it seems they don't ...</td>\n",
       "    </tr>\n",
       "    <tr>\n",
       "      <th>23657</th>\n",
       "      <td>1</td>\n",
       "      <td>Very poor support and material is not of a goo...</td>\n",
       "    </tr>\n",
       "    <tr>\n",
       "      <th>19254</th>\n",
       "      <td>2</td>\n",
       "      <td>Scherek's \"Celestial Beings\" are simply heaven...</td>\n",
       "    </tr>\n",
       "  </tbody>\n",
       "</table>\n",
       "</div>"
      ],
      "text/plain": [
       "       class_index                                        review_text\n",
       "10646            1  I just got this player and it's been nothing b...\n",
       "14819            1  It does seem to have all the food known to Cze...\n",
       "292              1  They are SOOOO bulky, and it seems they don't ...\n",
       "23657            1  Very poor support and material is not of a goo...\n",
       "19254            2  Scherek's \"Celestial Beings\" are simply heaven..."
      ]
     },
     "execution_count": 16,
     "metadata": {},
     "output_type": "execute_result"
    }
   ],
   "source": [
    "# Eliminación de las columnas que no son utiles a nuestro estudio\n",
    "# Nos quedaremos solo con 'Revies'\n",
    "df = df.drop(columns=['review_title'])\n",
    "df.head()"
   ]
  },
  {
   "cell_type": "code",
   "execution_count": 17,
   "metadata": {},
   "outputs": [
    {
     "data": {
      "text/html": [
       "<div>\n",
       "<style scoped>\n",
       "    .dataframe tbody tr th:only-of-type {\n",
       "        vertical-align: middle;\n",
       "    }\n",
       "\n",
       "    .dataframe tbody tr th {\n",
       "        vertical-align: top;\n",
       "    }\n",
       "\n",
       "    .dataframe thead th {\n",
       "        text-align: right;\n",
       "    }\n",
       "</style>\n",
       "<table border=\"1\" class=\"dataframe\">\n",
       "  <thead>\n",
       "    <tr style=\"text-align: right;\">\n",
       "      <th></th>\n",
       "      <th>sentiment</th>\n",
       "      <th>text</th>\n",
       "    </tr>\n",
       "  </thead>\n",
       "  <tbody>\n",
       "    <tr>\n",
       "      <th>10646</th>\n",
       "      <td>1</td>\n",
       "      <td>I just got this player and it's been nothing b...</td>\n",
       "    </tr>\n",
       "    <tr>\n",
       "      <th>14819</th>\n",
       "      <td>1</td>\n",
       "      <td>It does seem to have all the food known to Cze...</td>\n",
       "    </tr>\n",
       "    <tr>\n",
       "      <th>292</th>\n",
       "      <td>1</td>\n",
       "      <td>They are SOOOO bulky, and it seems they don't ...</td>\n",
       "    </tr>\n",
       "    <tr>\n",
       "      <th>23657</th>\n",
       "      <td>1</td>\n",
       "      <td>Very poor support and material is not of a goo...</td>\n",
       "    </tr>\n",
       "    <tr>\n",
       "      <th>19254</th>\n",
       "      <td>2</td>\n",
       "      <td>Scherek's \"Celestial Beings\" are simply heaven...</td>\n",
       "    </tr>\n",
       "  </tbody>\n",
       "</table>\n",
       "</div>"
      ],
      "text/plain": [
       "       sentiment                                               text\n",
       "10646          1  I just got this player and it's been nothing b...\n",
       "14819          1  It does seem to have all the food known to Cze...\n",
       "292            1  They are SOOOO bulky, and it seems they don't ...\n",
       "23657          1  Very poor support and material is not of a goo...\n",
       "19254          2  Scherek's \"Celestial Beings\" are simply heaven..."
      ]
     },
     "execution_count": 17,
     "metadata": {},
     "output_type": "execute_result"
    }
   ],
   "source": [
    "\"\"\" \n",
    "Renombrar las columnas:\n",
    "    - review_text -> text\n",
    "    - class_index --> sentiment\n",
    "\"\"\"\n",
    "df.rename(columns={'review_text': 'text', 'class_index':'sentiment'}, inplace=True)\n",
    "\n",
    "df.head()"
   ]
  },
  {
   "cell_type": "code",
   "execution_count": 18,
   "metadata": {},
   "outputs": [],
   "source": [
    "# Calcular la longitud de cada reseña\n",
    "df['length'] = df['text'].apply(len)"
   ]
  },
  {
   "cell_type": "code",
   "execution_count": 19,
   "metadata": {},
   "outputs": [
    {
     "data": {
      "text/plain": [
       "count    12000.000000\n",
       "mean       401.550333\n",
       "std        233.669965\n",
       "min         31.000000\n",
       "25%        205.000000\n",
       "50%        352.000000\n",
       "75%        559.000000\n",
       "max       1006.000000\n",
       "Name: length, dtype: float64"
      ]
     },
     "execution_count": 19,
     "metadata": {},
     "output_type": "execute_result"
    }
   ],
   "source": [
    "# Resumen de la nueva columna \"length\"\n",
    "df['length'].describe()"
   ]
  },
  {
   "cell_type": "code",
   "execution_count": 20,
   "metadata": {},
   "outputs": [
    {
     "data": {
      "text/html": [
       "<div>\n",
       "<style scoped>\n",
       "    .dataframe tbody tr th:only-of-type {\n",
       "        vertical-align: middle;\n",
       "    }\n",
       "\n",
       "    .dataframe tbody tr th {\n",
       "        vertical-align: top;\n",
       "    }\n",
       "\n",
       "    .dataframe thead th {\n",
       "        text-align: right;\n",
       "    }\n",
       "</style>\n",
       "<table border=\"1\" class=\"dataframe\">\n",
       "  <thead>\n",
       "    <tr style=\"text-align: right;\">\n",
       "      <th></th>\n",
       "      <th>sentiment</th>\n",
       "      <th>text</th>\n",
       "      <th>length</th>\n",
       "    </tr>\n",
       "  </thead>\n",
       "  <tbody>\n",
       "  </tbody>\n",
       "</table>\n",
       "</div>"
      ],
      "text/plain": [
       "Empty DataFrame\n",
       "Columns: [sentiment, text, length]\n",
       "Index: []"
      ]
     },
     "execution_count": 20,
     "metadata": {},
     "output_type": "execute_result"
    }
   ],
   "source": [
    "# busqueda de los elementos con longitud mínima (15)\n",
    "df[df.length == 15]"
   ]
  },
  {
   "cell_type": "code",
   "execution_count": 21,
   "metadata": {},
   "outputs": [],
   "source": [
    "# Vamos a remover aquellos textos que tiene más de 565 caracteres (Q3)\n",
    "df = df[df.length <= 565]"
   ]
  },
  {
   "cell_type": "code",
   "execution_count": 22,
   "metadata": {},
   "outputs": [
    {
     "data": {
      "text/plain": [
       "(9080, 3)"
      ]
     },
     "execution_count": 22,
     "metadata": {},
     "output_type": "execute_result"
    }
   ],
   "source": [
    "# Comprobamos las dimensiones actuales del dataframe\n",
    "df.shape"
   ]
  },
  {
   "cell_type": "code",
   "execution_count": 23,
   "metadata": {},
   "outputs": [],
   "source": [
    "# Detección del idioma en el que está escrita cada reseña\n",
    "df['language'] = df['text'].apply(lambda x: cld3.get_language(x)[0])"
   ]
  },
  {
   "cell_type": "code",
   "execution_count": 24,
   "metadata": {},
   "outputs": [
    {
     "data": {
      "text/plain": [
       "en    9050\n",
       "es      23\n",
       "fr       2\n",
       "ha       1\n",
       "pl       1\n",
       "de       1\n",
       "pt       1\n",
       "so       1\n",
       "Name: language, dtype: int64"
      ]
     },
     "execution_count": 24,
     "metadata": {},
     "output_type": "execute_result"
    }
   ],
   "source": [
    "# ¿En que idioma están escritas las reseñas? ¿Cuantas reseñas tenemos para cada idioma?\n",
    "df['language'].value_counts()"
   ]
  },
  {
   "cell_type": "code",
   "execution_count": 25,
   "metadata": {},
   "outputs": [
    {
     "data": {
      "text/html": [
       "<div>\n",
       "<style scoped>\n",
       "    .dataframe tbody tr th:only-of-type {\n",
       "        vertical-align: middle;\n",
       "    }\n",
       "\n",
       "    .dataframe tbody tr th {\n",
       "        vertical-align: top;\n",
       "    }\n",
       "\n",
       "    .dataframe thead th {\n",
       "        text-align: right;\n",
       "    }\n",
       "</style>\n",
       "<table border=\"1\" class=\"dataframe\">\n",
       "  <thead>\n",
       "    <tr style=\"text-align: right;\">\n",
       "      <th></th>\n",
       "      <th>sentiment</th>\n",
       "      <th>text</th>\n",
       "      <th>length</th>\n",
       "      <th>language</th>\n",
       "    </tr>\n",
       "  </thead>\n",
       "  <tbody>\n",
       "    <tr>\n",
       "      <th>21274</th>\n",
       "      <td>2</td>\n",
       "      <td>He comprado varios de estos dicos para mi y pa...</td>\n",
       "      <td>144</td>\n",
       "      <td>es</td>\n",
       "    </tr>\n",
       "    <tr>\n",
       "      <th>13057</th>\n",
       "      <td>2</td>\n",
       "      <td>Todo ha sido excelente, la entrega fue en el l...</td>\n",
       "      <td>142</td>\n",
       "      <td>es</td>\n",
       "    </tr>\n",
       "    <tr>\n",
       "      <th>21415</th>\n",
       "      <td>2</td>\n",
       "      <td>Excelente producto, las peliculas son de buena...</td>\n",
       "      <td>150</td>\n",
       "      <td>es</td>\n",
       "    </tr>\n",
       "    <tr>\n",
       "      <th>21685</th>\n",
       "      <td>2</td>\n",
       "      <td>Se refiere, básicamente, a cómo afirmar y mejo...</td>\n",
       "      <td>91</td>\n",
       "      <td>es</td>\n",
       "    </tr>\n",
       "    <tr>\n",
       "      <th>8130</th>\n",
       "      <td>1</td>\n",
       "      <td>Me engañaron al comprar esto, los botones son ...</td>\n",
       "      <td>202</td>\n",
       "      <td>es</td>\n",
       "    </tr>\n",
       "    <tr>\n",
       "      <th>5246</th>\n",
       "      <td>2</td>\n",
       "      <td>¿Que tan util es la informacion en este libro?...</td>\n",
       "      <td>439</td>\n",
       "      <td>es</td>\n",
       "    </tr>\n",
       "    <tr>\n",
       "      <th>17244</th>\n",
       "      <td>1</td>\n",
       "      <td>Es bastante incomodo, el boton hay q mantenerl...</td>\n",
       "      <td>241</td>\n",
       "      <td>es</td>\n",
       "    </tr>\n",
       "    <tr>\n",
       "      <th>23677</th>\n",
       "      <td>1</td>\n",
       "      <td>Existen mejores sonidos, sonidos arm'nicos que...</td>\n",
       "      <td>443</td>\n",
       "      <td>es</td>\n",
       "    </tr>\n",
       "    <tr>\n",
       "      <th>7129</th>\n",
       "      <td>2</td>\n",
       "      <td>Al leer este libro en una clase de Maestría en...</td>\n",
       "      <td>247</td>\n",
       "      <td>es</td>\n",
       "    </tr>\n",
       "    <tr>\n",
       "      <th>5502</th>\n",
       "      <td>2</td>\n",
       "      <td>Simplemente, sin igual. Me tomo 3 vueltas del ...</td>\n",
       "      <td>271</td>\n",
       "      <td>es</td>\n",
       "    </tr>\n",
       "    <tr>\n",
       "      <th>8998</th>\n",
       "      <td>2</td>\n",
       "      <td>un concierto para bailar y escuchar si te gust...</td>\n",
       "      <td>84</td>\n",
       "      <td>es</td>\n",
       "    </tr>\n",
       "    <tr>\n",
       "      <th>11573</th>\n",
       "      <td>2</td>\n",
       "      <td>Si, la ventaja actual del consumidor es obtene...</td>\n",
       "      <td>165</td>\n",
       "      <td>es</td>\n",
       "    </tr>\n",
       "    <tr>\n",
       "      <th>5905</th>\n",
       "      <td>2</td>\n",
       "      <td>Muy seguro, y versatil segun como lo necesites...</td>\n",
       "      <td>201</td>\n",
       "      <td>es</td>\n",
       "    </tr>\n",
       "    <tr>\n",
       "      <th>1324</th>\n",
       "      <td>2</td>\n",
       "      <td>Un micrófono legendario a buen precio. Aunque ...</td>\n",
       "      <td>405</td>\n",
       "      <td>es</td>\n",
       "    </tr>\n",
       "    <tr>\n",
       "      <th>3572</th>\n",
       "      <td>2</td>\n",
       "      <td>¿Porque no era lo que esperaba? Leí Melocotone...</td>\n",
       "      <td>420</td>\n",
       "      <td>es</td>\n",
       "    </tr>\n",
       "    <tr>\n",
       "      <th>176</th>\n",
       "      <td>1</td>\n",
       "      <td>En español decimos \"voz chillona\" cuando el ti...</td>\n",
       "      <td>471</td>\n",
       "      <td>es</td>\n",
       "    </tr>\n",
       "    <tr>\n",
       "      <th>9144</th>\n",
       "      <td>2</td>\n",
       "      <td>Poseo una camara olympus evolt 510 con dos len...</td>\n",
       "      <td>231</td>\n",
       "      <td>es</td>\n",
       "    </tr>\n",
       "    <tr>\n",
       "      <th>9421</th>\n",
       "      <td>1</td>\n",
       "      <td>Yamaha PSR340 61-Note Touch-Sensitive Portable...</td>\n",
       "      <td>271</td>\n",
       "      <td>es</td>\n",
       "    </tr>\n",
       "    <tr>\n",
       "      <th>22842</th>\n",
       "      <td>1</td>\n",
       "      <td>Malo, malo, malo. Pésima grabacion y calidad s...</td>\n",
       "      <td>208</td>\n",
       "      <td>es</td>\n",
       "    </tr>\n",
       "    <tr>\n",
       "      <th>17875</th>\n",
       "      <td>1</td>\n",
       "      <td>bad product. One button fall. Amazon send me a...</td>\n",
       "      <td>182</td>\n",
       "      <td>es</td>\n",
       "    </tr>\n",
       "    <tr>\n",
       "      <th>333</th>\n",
       "      <td>1</td>\n",
       "      <td>Los zapatos son buenos pero escogi mal el tama...</td>\n",
       "      <td>106</td>\n",
       "      <td>es</td>\n",
       "    </tr>\n",
       "    <tr>\n",
       "      <th>3930</th>\n",
       "      <td>2</td>\n",
       "      <td>Es una demostracion adicional de lo que es cap...</td>\n",
       "      <td>227</td>\n",
       "      <td>es</td>\n",
       "    </tr>\n",
       "    <tr>\n",
       "      <th>18840</th>\n",
       "      <td>1</td>\n",
       "      <td>No he leido un libro tan más falso e ilógico q...</td>\n",
       "      <td>267</td>\n",
       "      <td>es</td>\n",
       "    </tr>\n",
       "  </tbody>\n",
       "</table>\n",
       "</div>"
      ],
      "text/plain": [
       "       sentiment                                               text  length  \\\n",
       "21274          2  He comprado varios de estos dicos para mi y pa...     144   \n",
       "13057          2  Todo ha sido excelente, la entrega fue en el l...     142   \n",
       "21415          2  Excelente producto, las peliculas son de buena...     150   \n",
       "21685          2  Se refiere, básicamente, a cómo afirmar y mejo...      91   \n",
       "8130           1  Me engañaron al comprar esto, los botones son ...     202   \n",
       "5246           2  ¿Que tan util es la informacion en este libro?...     439   \n",
       "17244          1  Es bastante incomodo, el boton hay q mantenerl...     241   \n",
       "23677          1  Existen mejores sonidos, sonidos arm'nicos que...     443   \n",
       "7129           2  Al leer este libro en una clase de Maestría en...     247   \n",
       "5502           2  Simplemente, sin igual. Me tomo 3 vueltas del ...     271   \n",
       "8998           2  un concierto para bailar y escuchar si te gust...      84   \n",
       "11573          2  Si, la ventaja actual del consumidor es obtene...     165   \n",
       "5905           2  Muy seguro, y versatil segun como lo necesites...     201   \n",
       "1324           2  Un micrófono legendario a buen precio. Aunque ...     405   \n",
       "3572           2  ¿Porque no era lo que esperaba? Leí Melocotone...     420   \n",
       "176            1  En español decimos \"voz chillona\" cuando el ti...     471   \n",
       "9144           2  Poseo una camara olympus evolt 510 con dos len...     231   \n",
       "9421           1  Yamaha PSR340 61-Note Touch-Sensitive Portable...     271   \n",
       "22842          1  Malo, malo, malo. Pésima grabacion y calidad s...     208   \n",
       "17875          1  bad product. One button fall. Amazon send me a...     182   \n",
       "333            1  Los zapatos son buenos pero escogi mal el tama...     106   \n",
       "3930           2  Es una demostracion adicional de lo que es cap...     227   \n",
       "18840          1  No he leido un libro tan más falso e ilógico q...     267   \n",
       "\n",
       "      language  \n",
       "21274       es  \n",
       "13057       es  \n",
       "21415       es  \n",
       "21685       es  \n",
       "8130        es  \n",
       "5246        es  \n",
       "17244       es  \n",
       "23677       es  \n",
       "7129        es  \n",
       "5502        es  \n",
       "8998        es  \n",
       "11573       es  \n",
       "5905        es  \n",
       "1324        es  \n",
       "3572        es  \n",
       "176         es  \n",
       "9144        es  \n",
       "9421        es  \n",
       "22842       es  \n",
       "17875       es  \n",
       "333         es  \n",
       "3930        es  \n",
       "18840       es  "
      ]
     },
     "execution_count": 25,
     "metadata": {},
     "output_type": "execute_result"
    }
   ],
   "source": [
    "# ¿Cual son las reseñas en español?\n",
    "df[df.language=='es']"
   ]
  },
  {
   "cell_type": "code",
   "execution_count": 26,
   "metadata": {},
   "outputs": [],
   "source": [
    "# Nos quedamos solo con aquellas que están escritas únicamente en inglés\n",
    "df = df[df['language']=='en']"
   ]
  },
  {
   "cell_type": "code",
   "execution_count": 27,
   "metadata": {},
   "outputs": [
    {
     "data": {
      "text/plain": [
       "(9050, 4)"
      ]
     },
     "execution_count": 27,
     "metadata": {},
     "output_type": "execute_result"
    }
   ],
   "source": [
    "# Comprobamos las dimensiones actuales del dataframe\n",
    "df.shape"
   ]
  },
  {
   "cell_type": "markdown",
   "metadata": {},
   "source": [
    "### BLOQUE E: Exportación del conjunto resultante\n",
    "\n",
    "En esta última fase exportamos y guardamos el conjunto de datos ya limpiado, procesado y adecuado en la carpeta 'data'. Solo guardaremos aquellas columnas que posteriormente nos serán útiles.\n",
    "Ya que hay bastante datos nos vamo"
   ]
  },
  {
   "cell_type": "code",
   "execution_count": 28,
   "metadata": {},
   "outputs": [],
   "source": [
    "# Eliminamos las columnas que ya no serán necesarias para los siguiente pasos\n",
    "df = df.drop(columns=['language'])"
   ]
  },
  {
   "cell_type": "code",
   "execution_count": 29,
   "metadata": {},
   "outputs": [
    {
     "data": {
      "text/html": [
       "<div>\n",
       "<style scoped>\n",
       "    .dataframe tbody tr th:only-of-type {\n",
       "        vertical-align: middle;\n",
       "    }\n",
       "\n",
       "    .dataframe tbody tr th {\n",
       "        vertical-align: top;\n",
       "    }\n",
       "\n",
       "    .dataframe thead th {\n",
       "        text-align: right;\n",
       "    }\n",
       "</style>\n",
       "<table border=\"1\" class=\"dataframe\">\n",
       "  <thead>\n",
       "    <tr style=\"text-align: right;\">\n",
       "      <th></th>\n",
       "      <th>sentiment</th>\n",
       "      <th>text</th>\n",
       "      <th>length</th>\n",
       "    </tr>\n",
       "  </thead>\n",
       "  <tbody>\n",
       "    <tr>\n",
       "      <th>10083</th>\n",
       "      <td>1</td>\n",
       "      <td>I love some of Lora Leigh books so when I hear...</td>\n",
       "      <td>445</td>\n",
       "    </tr>\n",
       "    <tr>\n",
       "      <th>3140</th>\n",
       "      <td>1</td>\n",
       "      <td>Something is wrong with this DVD. It doesn't h...</td>\n",
       "      <td>473</td>\n",
       "    </tr>\n",
       "    <tr>\n",
       "      <th>17604</th>\n",
       "      <td>1</td>\n",
       "      <td>The book contains good information, but it was...</td>\n",
       "      <td>330</td>\n",
       "    </tr>\n",
       "    <tr>\n",
       "      <th>17855</th>\n",
       "      <td>1</td>\n",
       "      <td>AND THAT'S EXACTLY WHAT RUTH PRICE IS!THAT LIT...</td>\n",
       "      <td>498</td>\n",
       "    </tr>\n",
       "    <tr>\n",
       "      <th>20661</th>\n",
       "      <td>1</td>\n",
       "      <td>Used this pressure cooker and thought it was w...</td>\n",
       "      <td>330</td>\n",
       "    </tr>\n",
       "  </tbody>\n",
       "</table>\n",
       "</div>"
      ],
      "text/plain": [
       "       sentiment                                               text  length\n",
       "10083          1  I love some of Lora Leigh books so when I hear...     445\n",
       "3140           1  Something is wrong with this DVD. It doesn't h...     473\n",
       "17604          1  The book contains good information, but it was...     330\n",
       "17855          1  AND THAT'S EXACTLY WHAT RUTH PRICE IS!THAT LIT...     498\n",
       "20661          1  Used this pressure cooker and thought it was w...     330"
      ]
     },
     "execution_count": 29,
     "metadata": {},
     "output_type": "execute_result"
    }
   ],
   "source": [
    "# muestreo proporcional\n",
    "df_sample = df.groupby('sentiment', group_keys=False).apply(\n",
    "    lambda x: x.sample(frac=0.4, random_state=2023)\n",
    ")\n",
    "\n",
    "df_sample.head()"
   ]
  },
  {
   "cell_type": "code",
   "execution_count": 30,
   "metadata": {},
   "outputs": [
    {
     "name": "stdout",
     "output_type": "stream",
     "text": [
      "Proporciones antes del muestreo:\n",
      "2    0.512265\n",
      "1    0.487735\n",
      "Name: sentiment, dtype: float64 \n",
      "\n",
      "Proporciones despues del muestreo:\n",
      "2    0.512155\n",
      "1    0.487845\n",
      "Name: sentiment, dtype: float64\n"
     ]
    }
   ],
   "source": [
    "# vamos a combrobar que las proporcionese se hay mantenido iguales\n",
    "print(\"Proporciones antes del muestreo:\")\n",
    "print(df['sentiment'].value_counts(normalize=True), \"\\n\")\n",
    "\n",
    "print(\"Proporciones despues del muestreo:\")\n",
    "print(df_sample['sentiment'].value_counts(normalize=True))"
   ]
  },
  {
   "cell_type": "code",
   "execution_count": 31,
   "metadata": {},
   "outputs": [],
   "source": [
    "# Guardamos los datos ya procesados en un fichero csv\n",
    "df_sample.to_csv('../data/amazon_reviews_clean.csv', index=False)"
   ]
  },
  {
   "cell_type": "code",
   "execution_count": null,
   "metadata": {},
   "outputs": [],
   "source": []
  },
  {
   "cell_type": "code",
   "execution_count": null,
   "metadata": {},
   "outputs": [],
   "source": []
  }
 ],
 "metadata": {
  "kernelspec": {
   "display_name": "Python 3",
   "language": "python",
   "name": "python3"
  },
  "language_info": {
   "codemirror_mode": {
    "name": "ipython",
    "version": 3
   },
   "file_extension": ".py",
   "mimetype": "text/x-python",
   "name": "python",
   "nbconvert_exporter": "python",
   "pygments_lexer": "ipython3",
   "version": "3.8.10"
  }
 },
 "nbformat": 4,
 "nbformat_minor": 2
}
