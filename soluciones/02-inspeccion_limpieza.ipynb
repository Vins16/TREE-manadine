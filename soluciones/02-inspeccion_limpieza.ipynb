{
 "cells": [
  {
   "cell_type": "markdown",
   "metadata": {},
   "source": [
    "### Limpieza e inspección de los datos"
   ]
  },
  {
   "cell_type": "markdown",
   "metadata": {},
   "source": [
    "Este notebook está esturcturado como sigue:\n",
    "\n",
    "- **Importación de librerias**\n",
    "- **Bloque A**: carga de los datos.\n",
    "- **Bloque B**: inspección de los datos.\n",
    "- **Bloque C**: limpieza y adecuación.\n",
    "- **Bloque D**: exportación del conjunto resultante."
   ]
  },
  {
   "cell_type": "markdown",
   "metadata": {},
   "source": [
    "### Importación librerias"
   ]
  },
  {
   "cell_type": "code",
   "execution_count": 2,
   "metadata": {},
   "outputs": [],
   "source": [
    "import pandas as pd\n",
    "import re\n",
    "\n",
    "import cld3"
   ]
  },
  {
   "cell_type": "markdown",
   "metadata": {},
   "source": [
    "### BLOQUE A: Carga de los datos"
   ]
  },
  {
   "cell_type": "markdown",
   "metadata": {},
   "source": [
    "**Pandas**: librería más popular de python que proporciona las herramientas y estructuras necesarias para manipular y analizar datos. La estructura básica de Pandas es el **DataFrame**, una colección ordenada de columnas con nombres y tipos, donde una sola fila representa un único caso (observación) y las columnas representan atributos particulares.\n",
    "\n",
    "Guía: https://pandas.pydata.org/docs/getting_started/index.html"
   ]
  },
  {
   "cell_type": "code",
   "execution_count": 60,
   "metadata": {},
   "outputs": [],
   "source": [
    "# Leemos el CSV que contiene los datos y lo cargamos en memoria\n",
    "df = pd.read_csv(\"../data/amazon_reviews.csv\")"
   ]
  },
  {
   "cell_type": "code",
   "execution_count": 61,
   "metadata": {},
   "outputs": [
    {
     "data": {
      "text/plain": [
       "(24000, 3)"
      ]
     },
     "execution_count": 61,
     "metadata": {},
     "output_type": "execute_result"
    }
   ],
   "source": [
    "df.shape"
   ]
  },
  {
   "cell_type": "markdown",
   "metadata": {},
   "source": [
    "### BLOQUE B: inspección de los datos"
   ]
  },
  {
   "cell_type": "markdown",
   "metadata": {},
   "source": [
    "El objetivo de la inspección es la familiarización con el conjunto de datos. Algunas preguntas iniciales que podría estar bien hacerse pueden ser:\n",
    "\n",
    "- ¿En qué tipo de objeto están almacenados los datos?\n",
    "- ¿Cuál es su dimensión?\n",
    "- ¿Hay datos ausentes?\n",
    "- ¿Que tipos diferentes de datos hay?\n",
    "- ..."
   ]
  },
  {
   "cell_type": "code",
   "execution_count": 37,
   "metadata": {},
   "outputs": [
    {
     "data": {
      "text/plain": [
       "pandas.core.frame.DataFrame"
      ]
     },
     "execution_count": 37,
     "metadata": {},
     "output_type": "execute_result"
    }
   ],
   "source": [
    "# Ver el tipo de objeto con el que estamos trabajando\n",
    "type(df)"
   ]
  },
  {
   "cell_type": "code",
   "execution_count": 38,
   "metadata": {},
   "outputs": [
    {
     "data": {
      "text/plain": [
       "(24000, 3)"
      ]
     },
     "execution_count": 38,
     "metadata": {},
     "output_type": "execute_result"
    }
   ],
   "source": [
    "# Dimensiones del dataframe\n",
    "df.shape"
   ]
  },
  {
   "cell_type": "code",
   "execution_count": 39,
   "metadata": {},
   "outputs": [
    {
     "name": "stdout",
     "output_type": "stream",
     "text": [
      "Hay un dataframe de 24000 filas y 3 columnas.\n"
     ]
    }
   ],
   "source": [
    "# Otra manera más interesante de proporcionar la misma información anterior\n",
    "print(f\"Hay un dataframe de {df.shape[0]} filas y {df.shape[1]} columnas.\")"
   ]
  },
  {
   "cell_type": "code",
   "execution_count": 40,
   "metadata": {},
   "outputs": [
    {
     "name": "stdout",
     "output_type": "stream",
     "text": [
      "<class 'pandas.core.frame.DataFrame'>\n",
      "Int64Index: 24000 entries, 64522 to 61666\n",
      "Data columns (total 3 columns):\n",
      " #   Column        Non-Null Count  Dtype \n",
      "---  ------        --------------  ----- \n",
      " 0   class_index   24000 non-null  int64 \n",
      " 1   review_title  24000 non-null  object\n",
      " 2   review_text   24000 non-null  object\n",
      "dtypes: int64(1), object(2)\n",
      "memory usage: 750.0+ KB\n"
     ]
    }
   ],
   "source": [
    "# Resumen conciso del dataframe\n",
    "df.info()"
   ]
  },
  {
   "cell_type": "code",
   "execution_count": 41,
   "metadata": {},
   "outputs": [
    {
     "data": {
      "text/html": [
       "<div>\n",
       "<style scoped>\n",
       "    .dataframe tbody tr th:only-of-type {\n",
       "        vertical-align: middle;\n",
       "    }\n",
       "\n",
       "    .dataframe tbody tr th {\n",
       "        vertical-align: top;\n",
       "    }\n",
       "\n",
       "    .dataframe thead th {\n",
       "        text-align: right;\n",
       "    }\n",
       "</style>\n",
       "<table border=\"1\" class=\"dataframe\">\n",
       "  <thead>\n",
       "    <tr style=\"text-align: right;\">\n",
       "      <th></th>\n",
       "      <th>class_index</th>\n",
       "      <th>review_title</th>\n",
       "      <th>review_text</th>\n",
       "    </tr>\n",
       "  </thead>\n",
       "  <tbody>\n",
       "    <tr>\n",
       "      <th>64522</th>\n",
       "      <td>2</td>\n",
       "      <td>Super saver good quality black ink.</td>\n",
       "      <td>Smooth, good black density ink. For general pu...</td>\n",
       "    </tr>\n",
       "    <tr>\n",
       "      <th>53816</th>\n",
       "      <td>2</td>\n",
       "      <td>Solid.</td>\n",
       "      <td>Good, solid pair of sunglasses. Ray Ban makes ...</td>\n",
       "    </tr>\n",
       "    <tr>\n",
       "      <th>111956</th>\n",
       "      <td>2</td>\n",
       "      <td>Fantastic Computer Speakers - Best You Can Buy</td>\n",
       "      <td>These speakers have fabulous sound without an ...</td>\n",
       "    </tr>\n",
       "    <tr>\n",
       "      <th>73647</th>\n",
       "      <td>1</td>\n",
       "      <td>Pray you won't need the warranty!</td>\n",
       "      <td>We have used Farberware Percolators since the ...</td>\n",
       "    </tr>\n",
       "    <tr>\n",
       "      <th>110426</th>\n",
       "      <td>2</td>\n",
       "      <td>Good for Beginners</td>\n",
       "      <td>I'm a fan of Nancy Kress's how-to books for Wr...</td>\n",
       "    </tr>\n",
       "  </tbody>\n",
       "</table>\n",
       "</div>"
      ],
      "text/plain": [
       "        class_index                                    review_title  \\\n",
       "64522             2             Super saver good quality black ink.   \n",
       "53816             2                                          Solid.   \n",
       "111956            2  Fantastic Computer Speakers - Best You Can Buy   \n",
       "73647             1               Pray you won't need the warranty!   \n",
       "110426            2                              Good for Beginners   \n",
       "\n",
       "                                              review_text  \n",
       "64522   Smooth, good black density ink. For general pu...  \n",
       "53816   Good, solid pair of sunglasses. Ray Ban makes ...  \n",
       "111956  These speakers have fabulous sound without an ...  \n",
       "73647   We have used Farberware Percolators since the ...  \n",
       "110426  I'm a fan of Nancy Kress's how-to books for Wr...  "
      ]
     },
     "execution_count": 41,
     "metadata": {},
     "output_type": "execute_result"
    }
   ],
   "source": [
    "# Mostrar las primeras 5 filas\n",
    "df.head()"
   ]
  },
  {
   "cell_type": "code",
   "execution_count": 42,
   "metadata": {},
   "outputs": [
    {
     "data": {
      "text/html": [
       "<div>\n",
       "<style scoped>\n",
       "    .dataframe tbody tr th:only-of-type {\n",
       "        vertical-align: middle;\n",
       "    }\n",
       "\n",
       "    .dataframe tbody tr th {\n",
       "        vertical-align: top;\n",
       "    }\n",
       "\n",
       "    .dataframe thead th {\n",
       "        text-align: right;\n",
       "    }\n",
       "</style>\n",
       "<table border=\"1\" class=\"dataframe\">\n",
       "  <thead>\n",
       "    <tr style=\"text-align: right;\">\n",
       "      <th></th>\n",
       "      <th>class_index</th>\n",
       "      <th>review_title</th>\n",
       "      <th>review_text</th>\n",
       "    </tr>\n",
       "  </thead>\n",
       "  <tbody>\n",
       "    <tr>\n",
       "      <th>519</th>\n",
       "      <td>2</td>\n",
       "      <td>Amazing!</td>\n",
       "      <td>I loved the final cut since I first heard it, ...</td>\n",
       "    </tr>\n",
       "    <tr>\n",
       "      <th>46148</th>\n",
       "      <td>1</td>\n",
       "      <td>WHY BUY TOM TOM? WHEN YOU CAN GET BETTER? A LO...</td>\n",
       "      <td>I am a professional driver. I have compared ma...</td>\n",
       "    </tr>\n",
       "    <tr>\n",
       "      <th>35360</th>\n",
       "      <td>2</td>\n",
       "      <td>Good Quad Ramps</td>\n",
       "      <td>Got these for loading my 2 up Can Am 400 into ...</td>\n",
       "    </tr>\n",
       "    <tr>\n",
       "      <th>106760</th>\n",
       "      <td>1</td>\n",
       "      <td>Not scary I think Hostel is way better!</td>\n",
       "      <td>I know a lot of people didn't like Hostel but ...</td>\n",
       "    </tr>\n",
       "    <tr>\n",
       "      <th>61666</th>\n",
       "      <td>2</td>\n",
       "      <td>Love on the Prarie</td>\n",
       "      <td>I adored this story. It was a true illustratio...</td>\n",
       "    </tr>\n",
       "  </tbody>\n",
       "</table>\n",
       "</div>"
      ],
      "text/plain": [
       "        class_index                                       review_title  \\\n",
       "519               2                                           Amazing!   \n",
       "46148             1  WHY BUY TOM TOM? WHEN YOU CAN GET BETTER? A LO...   \n",
       "35360             2                                    Good Quad Ramps   \n",
       "106760            1            Not scary I think Hostel is way better!   \n",
       "61666             2                                 Love on the Prarie   \n",
       "\n",
       "                                              review_text  \n",
       "519     I loved the final cut since I first heard it, ...  \n",
       "46148   I am a professional driver. I have compared ma...  \n",
       "35360   Got these for loading my 2 up Can Am 400 into ...  \n",
       "106760  I know a lot of people didn't like Hostel but ...  \n",
       "61666   I adored this story. It was a true illustratio...  "
      ]
     },
     "execution_count": 42,
     "metadata": {},
     "output_type": "execute_result"
    }
   ],
   "source": [
    "# Mostrar las últimas 5 filas\n",
    "df.tail()"
   ]
  },
  {
   "cell_type": "code",
   "execution_count": 43,
   "metadata": {},
   "outputs": [
    {
     "data": {
      "text/plain": [
       "array([2, 1])"
      ]
     },
     "execution_count": 43,
     "metadata": {},
     "output_type": "execute_result"
    }
   ],
   "source": [
    "# ¿Cuáles son los posibles valores que puede tomar la variable 'class_index'?\n",
    "df['class_index'].unique()"
   ]
  },
  {
   "cell_type": "markdown",
   "metadata": {},
   "source": [
    "La variable \"class_index\" indica el sentimiento de cada reseña:\n",
    "\n",
    "- 1: sentimiento negativo\n",
    "- 2: sentimiento positivo"
   ]
  },
  {
   "cell_type": "markdown",
   "metadata": {},
   "source": [
    "### BLOQUE C: limpieza y adecuación"
   ]
  },
  {
   "cell_type": "code",
   "execution_count": 44,
   "metadata": {},
   "outputs": [
    {
     "data": {
      "text/html": [
       "<div>\n",
       "<style scoped>\n",
       "    .dataframe tbody tr th:only-of-type {\n",
       "        vertical-align: middle;\n",
       "    }\n",
       "\n",
       "    .dataframe tbody tr th {\n",
       "        vertical-align: top;\n",
       "    }\n",
       "\n",
       "    .dataframe thead th {\n",
       "        text-align: right;\n",
       "    }\n",
       "</style>\n",
       "<table border=\"1\" class=\"dataframe\">\n",
       "  <thead>\n",
       "    <tr style=\"text-align: right;\">\n",
       "      <th></th>\n",
       "      <th>class_index</th>\n",
       "      <th>review_text</th>\n",
       "    </tr>\n",
       "  </thead>\n",
       "  <tbody>\n",
       "    <tr>\n",
       "      <th>64522</th>\n",
       "      <td>2</td>\n",
       "      <td>Smooth, good black density ink. For general pu...</td>\n",
       "    </tr>\n",
       "    <tr>\n",
       "      <th>53816</th>\n",
       "      <td>2</td>\n",
       "      <td>Good, solid pair of sunglasses. Ray Ban makes ...</td>\n",
       "    </tr>\n",
       "    <tr>\n",
       "      <th>111956</th>\n",
       "      <td>2</td>\n",
       "      <td>These speakers have fabulous sound without an ...</td>\n",
       "    </tr>\n",
       "    <tr>\n",
       "      <th>73647</th>\n",
       "      <td>1</td>\n",
       "      <td>We have used Farberware Percolators since the ...</td>\n",
       "    </tr>\n",
       "    <tr>\n",
       "      <th>110426</th>\n",
       "      <td>2</td>\n",
       "      <td>I'm a fan of Nancy Kress's how-to books for Wr...</td>\n",
       "    </tr>\n",
       "  </tbody>\n",
       "</table>\n",
       "</div>"
      ],
      "text/plain": [
       "        class_index                                        review_text\n",
       "64522             2  Smooth, good black density ink. For general pu...\n",
       "53816             2  Good, solid pair of sunglasses. Ray Ban makes ...\n",
       "111956            2  These speakers have fabulous sound without an ...\n",
       "73647             1  We have used Farberware Percolators since the ...\n",
       "110426            2  I'm a fan of Nancy Kress's how-to books for Wr..."
      ]
     },
     "execution_count": 44,
     "metadata": {},
     "output_type": "execute_result"
    }
   ],
   "source": [
    "# Eliminación de las columnas que no son utiles a nuestro estudio\n",
    "# Nos quedaremos solo con 'Revies'\n",
    "df = df.drop(columns=['review_title'])\n",
    "df.head()"
   ]
  },
  {
   "cell_type": "code",
   "execution_count": 45,
   "metadata": {},
   "outputs": [
    {
     "data": {
      "text/html": [
       "<div>\n",
       "<style scoped>\n",
       "    .dataframe tbody tr th:only-of-type {\n",
       "        vertical-align: middle;\n",
       "    }\n",
       "\n",
       "    .dataframe tbody tr th {\n",
       "        vertical-align: top;\n",
       "    }\n",
       "\n",
       "    .dataframe thead th {\n",
       "        text-align: right;\n",
       "    }\n",
       "</style>\n",
       "<table border=\"1\" class=\"dataframe\">\n",
       "  <thead>\n",
       "    <tr style=\"text-align: right;\">\n",
       "      <th></th>\n",
       "      <th>sentiment</th>\n",
       "      <th>text</th>\n",
       "    </tr>\n",
       "  </thead>\n",
       "  <tbody>\n",
       "    <tr>\n",
       "      <th>64522</th>\n",
       "      <td>2</td>\n",
       "      <td>Smooth, good black density ink. For general pu...</td>\n",
       "    </tr>\n",
       "    <tr>\n",
       "      <th>53816</th>\n",
       "      <td>2</td>\n",
       "      <td>Good, solid pair of sunglasses. Ray Ban makes ...</td>\n",
       "    </tr>\n",
       "    <tr>\n",
       "      <th>111956</th>\n",
       "      <td>2</td>\n",
       "      <td>These speakers have fabulous sound without an ...</td>\n",
       "    </tr>\n",
       "    <tr>\n",
       "      <th>73647</th>\n",
       "      <td>1</td>\n",
       "      <td>We have used Farberware Percolators since the ...</td>\n",
       "    </tr>\n",
       "    <tr>\n",
       "      <th>110426</th>\n",
       "      <td>2</td>\n",
       "      <td>I'm a fan of Nancy Kress's how-to books for Wr...</td>\n",
       "    </tr>\n",
       "  </tbody>\n",
       "</table>\n",
       "</div>"
      ],
      "text/plain": [
       "        sentiment                                               text\n",
       "64522           2  Smooth, good black density ink. For general pu...\n",
       "53816           2  Good, solid pair of sunglasses. Ray Ban makes ...\n",
       "111956          2  These speakers have fabulous sound without an ...\n",
       "73647           1  We have used Farberware Percolators since the ...\n",
       "110426          2  I'm a fan of Nancy Kress's how-to books for Wr..."
      ]
     },
     "execution_count": 45,
     "metadata": {},
     "output_type": "execute_result"
    }
   ],
   "source": [
    "\"\"\" \n",
    "Renombrar las columnas:\n",
    "    - review_text -> text\n",
    "    - class_index --> sentiment\n",
    "\"\"\"\n",
    "df.rename(columns={'review_text': 'text', 'class_index':'sentiment'}, inplace=True)\n",
    "\n",
    "df.head()"
   ]
  },
  {
   "cell_type": "code",
   "execution_count": 46,
   "metadata": {},
   "outputs": [],
   "source": [
    "# Calcular la longitud de cada reseña\n",
    "df['length'] = df['text'].apply(len)"
   ]
  },
  {
   "cell_type": "code",
   "execution_count": 47,
   "metadata": {},
   "outputs": [
    {
     "data": {
      "text/plain": [
       "count    24000.000000\n",
       "mean       402.431667\n",
       "std        234.145683\n",
       "min         18.000000\n",
       "25%        206.000000\n",
       "50%        352.000000\n",
       "75%        562.000000\n",
       "max       1006.000000\n",
       "Name: length, dtype: float64"
      ]
     },
     "execution_count": 47,
     "metadata": {},
     "output_type": "execute_result"
    }
   ],
   "source": [
    "# Resumen de la nueva columna \"length\"\n",
    "df['length'].describe()"
   ]
  },
  {
   "cell_type": "code",
   "execution_count": 48,
   "metadata": {},
   "outputs": [
    {
     "data": {
      "text/html": [
       "<div>\n",
       "<style scoped>\n",
       "    .dataframe tbody tr th:only-of-type {\n",
       "        vertical-align: middle;\n",
       "    }\n",
       "\n",
       "    .dataframe tbody tr th {\n",
       "        vertical-align: top;\n",
       "    }\n",
       "\n",
       "    .dataframe thead th {\n",
       "        text-align: right;\n",
       "    }\n",
       "</style>\n",
       "<table border=\"1\" class=\"dataframe\">\n",
       "  <thead>\n",
       "    <tr style=\"text-align: right;\">\n",
       "      <th></th>\n",
       "      <th>sentiment</th>\n",
       "      <th>text</th>\n",
       "      <th>length</th>\n",
       "    </tr>\n",
       "  </thead>\n",
       "  <tbody>\n",
       "  </tbody>\n",
       "</table>\n",
       "</div>"
      ],
      "text/plain": [
       "Empty DataFrame\n",
       "Columns: [sentiment, text, length]\n",
       "Index: []"
      ]
     },
     "execution_count": 48,
     "metadata": {},
     "output_type": "execute_result"
    }
   ],
   "source": [
    "# busqueda de los elementos con longitud mínima (15)\n",
    "df[df.length == 15]"
   ]
  },
  {
   "cell_type": "code",
   "execution_count": 49,
   "metadata": {},
   "outputs": [],
   "source": [
    "# Vamos a remover aquellos textos que tiene más de 565 caracteres (Q3)\n",
    "df = df[df.length <= 565]"
   ]
  },
  {
   "cell_type": "code",
   "execution_count": 50,
   "metadata": {},
   "outputs": [
    {
     "data": {
      "text/plain": [
       "(18079, 3)"
      ]
     },
     "execution_count": 50,
     "metadata": {},
     "output_type": "execute_result"
    }
   ],
   "source": [
    "# Comprobamos las dimensiones actuales del dataframe\n",
    "df.shape"
   ]
  },
  {
   "cell_type": "code",
   "execution_count": 51,
   "metadata": {},
   "outputs": [],
   "source": [
    "# Detección del idioma en el que está escrita cada reseña\n",
    "df['language'] = df['text'].apply(lambda x: cld3.get_language(x)[0])"
   ]
  },
  {
   "cell_type": "code",
   "execution_count": 52,
   "metadata": {},
   "outputs": [
    {
     "data": {
      "text/plain": [
       "en    18022\n",
       "es       42\n",
       "fr        4\n",
       "pt        3\n",
       "ha        1\n",
       "ca        1\n",
       "nl        1\n",
       "de        1\n",
       "mg        1\n",
       "it        1\n",
       "pl        1\n",
       "so        1\n",
       "Name: language, dtype: int64"
      ]
     },
     "execution_count": 52,
     "metadata": {},
     "output_type": "execute_result"
    }
   ],
   "source": [
    "# ¿En que idioma están escritas las reseñas? ¿Cuantas reseñas tenemos para cada idioma?\n",
    "df['language'].value_counts()"
   ]
  },
  {
   "cell_type": "code",
   "execution_count": 53,
   "metadata": {},
   "outputs": [
    {
     "data": {
      "text/html": [
       "<div>\n",
       "<style scoped>\n",
       "    .dataframe tbody tr th:only-of-type {\n",
       "        vertical-align: middle;\n",
       "    }\n",
       "\n",
       "    .dataframe tbody tr th {\n",
       "        vertical-align: top;\n",
       "    }\n",
       "\n",
       "    .dataframe thead th {\n",
       "        text-align: right;\n",
       "    }\n",
       "</style>\n",
       "<table border=\"1\" class=\"dataframe\">\n",
       "  <thead>\n",
       "    <tr style=\"text-align: right;\">\n",
       "      <th></th>\n",
       "      <th>sentiment</th>\n",
       "      <th>text</th>\n",
       "      <th>length</th>\n",
       "      <th>language</th>\n",
       "    </tr>\n",
       "  </thead>\n",
       "  <tbody>\n",
       "    <tr>\n",
       "      <th>17295</th>\n",
       "      <td>1</td>\n",
       "      <td>En español decimos \"voz chillona\" cuando el ti...</td>\n",
       "      <td>471</td>\n",
       "      <td>es</td>\n",
       "    </tr>\n",
       "    <tr>\n",
       "      <th>24628</th>\n",
       "      <td>1</td>\n",
       "      <td>Los zapatos son buenos pero escogi mal el tama...</td>\n",
       "      <td>106</td>\n",
       "      <td>es</td>\n",
       "    </tr>\n",
       "    <tr>\n",
       "      <th>11234</th>\n",
       "      <td>1</td>\n",
       "      <td>hola escribo para publicar que el diseño de es...</td>\n",
       "      <td>305</td>\n",
       "      <td>es</td>\n",
       "    </tr>\n",
       "    <tr>\n",
       "      <th>91093</th>\n",
       "      <td>2</td>\n",
       "      <td>Un micrófono legendario a buen precio. Aunque ...</td>\n",
       "      <td>405</td>\n",
       "      <td>es</td>\n",
       "    </tr>\n",
       "    <tr>\n",
       "      <th>94094</th>\n",
       "      <td>2</td>\n",
       "      <td>Este pequeño manual es ya un clasico de muchos...</td>\n",
       "      <td>436</td>\n",
       "      <td>es</td>\n",
       "    </tr>\n",
       "    <tr>\n",
       "      <th>109160</th>\n",
       "      <td>2</td>\n",
       "      <td>Pasaron muchos años para que Juan Gabriel saca...</td>\n",
       "      <td>151</td>\n",
       "      <td>es</td>\n",
       "    </tr>\n",
       "    <tr>\n",
       "      <th>28814</th>\n",
       "      <td>2</td>\n",
       "      <td>Encontré este disco por casualidad y me result...</td>\n",
       "      <td>319</td>\n",
       "      <td>es</td>\n",
       "    </tr>\n",
       "    <tr>\n",
       "      <th>83554</th>\n",
       "      <td>2</td>\n",
       "      <td>¿Porque no era lo que esperaba? Leí Melocotone...</td>\n",
       "      <td>420</td>\n",
       "      <td>es</td>\n",
       "    </tr>\n",
       "    <tr>\n",
       "      <th>95537</th>\n",
       "      <td>2</td>\n",
       "      <td>Es una demostracion adicional de lo que es cap...</td>\n",
       "      <td>227</td>\n",
       "      <td>es</td>\n",
       "    </tr>\n",
       "    <tr>\n",
       "      <th>48206</th>\n",
       "      <td>2</td>\n",
       "      <td>¿Que tan util es la informacion en este libro?...</td>\n",
       "      <td>439</td>\n",
       "      <td>es</td>\n",
       "    </tr>\n",
       "    <tr>\n",
       "      <th>76145</th>\n",
       "      <td>2</td>\n",
       "      <td>Simplemente, sin igual. Me tomo 3 vueltas del ...</td>\n",
       "      <td>271</td>\n",
       "      <td>es</td>\n",
       "    </tr>\n",
       "    <tr>\n",
       "      <th>97464</th>\n",
       "      <td>2</td>\n",
       "      <td>Muy seguro, y versatil segun como lo necesites...</td>\n",
       "      <td>201</td>\n",
       "      <td>es</td>\n",
       "    </tr>\n",
       "    <tr>\n",
       "      <th>107005</th>\n",
       "      <td>2</td>\n",
       "      <td>Al leer este libro en una clase de Maestría en...</td>\n",
       "      <td>247</td>\n",
       "      <td>es</td>\n",
       "    </tr>\n",
       "    <tr>\n",
       "      <th>13453</th>\n",
       "      <td>2</td>\n",
       "      <td>Exelente presentacion en 6 dvds, en estuche de...</td>\n",
       "      <td>340</td>\n",
       "      <td>es</td>\n",
       "    </tr>\n",
       "    <tr>\n",
       "      <th>114342</th>\n",
       "      <td>1</td>\n",
       "      <td>Me engañaron al comprar esto, los botones son ...</td>\n",
       "      <td>202</td>\n",
       "      <td>es</td>\n",
       "    </tr>\n",
       "    <tr>\n",
       "      <th>43171</th>\n",
       "      <td>2</td>\n",
       "      <td>Levi's Men's 501 Original Fit Jean, Light Ston...</td>\n",
       "      <td>177</td>\n",
       "      <td>es</td>\n",
       "    </tr>\n",
       "    <tr>\n",
       "      <th>64877</th>\n",
       "      <td>2</td>\n",
       "      <td>un concierto para bailar y escuchar si te gust...</td>\n",
       "      <td>84</td>\n",
       "      <td>es</td>\n",
       "    </tr>\n",
       "    <tr>\n",
       "      <th>59000</th>\n",
       "      <td>2</td>\n",
       "      <td>Poseo una camara olympus evolt 510 con dos len...</td>\n",
       "      <td>231</td>\n",
       "      <td>es</td>\n",
       "    </tr>\n",
       "    <tr>\n",
       "      <th>54769</th>\n",
       "      <td>1</td>\n",
       "      <td>Yamaha PSR340 61-Note Touch-Sensitive Portable...</td>\n",
       "      <td>271</td>\n",
       "      <td>es</td>\n",
       "    </tr>\n",
       "    <tr>\n",
       "      <th>56655</th>\n",
       "      <td>2</td>\n",
       "      <td>Espero que asi como se ven sean buenos,solo un...</td>\n",
       "      <td>217</td>\n",
       "      <td>es</td>\n",
       "    </tr>\n",
       "    <tr>\n",
       "      <th>49217</th>\n",
       "      <td>2</td>\n",
       "      <td>Si, la ventaja actual del consumidor es obtene...</td>\n",
       "      <td>165</td>\n",
       "      <td>es</td>\n",
       "    </tr>\n",
       "    <tr>\n",
       "      <th>38657</th>\n",
       "      <td>2</td>\n",
       "      <td>Soy católico inicialmente por la cultura que m...</td>\n",
       "      <td>365</td>\n",
       "      <td>es</td>\n",
       "    </tr>\n",
       "    <tr>\n",
       "      <th>8834</th>\n",
       "      <td>1</td>\n",
       "      <td>There are exceptions: Ciardi's Dante, Robert B...</td>\n",
       "      <td>153</td>\n",
       "      <td>es</td>\n",
       "    </tr>\n",
       "    <tr>\n",
       "      <th>87579</th>\n",
       "      <td>2</td>\n",
       "      <td>Todo ha sido excelente, la entrega fue en el l...</td>\n",
       "      <td>142</td>\n",
       "      <td>es</td>\n",
       "    </tr>\n",
       "    <tr>\n",
       "      <th>94981</th>\n",
       "      <td>2</td>\n",
       "      <td>Este producto es totalmente recomendable, en e...</td>\n",
       "      <td>378</td>\n",
       "      <td>es</td>\n",
       "    </tr>\n",
       "    <tr>\n",
       "      <th>115166</th>\n",
       "      <td>2</td>\n",
       "      <td>He leido algunos libros acerca del estrés y cr...</td>\n",
       "      <td>344</td>\n",
       "      <td>es</td>\n",
       "    </tr>\n",
       "    <tr>\n",
       "      <th>49739</th>\n",
       "      <td>2</td>\n",
       "      <td>Muy buen producto al igual que toda lo referen...</td>\n",
       "      <td>266</td>\n",
       "      <td>es</td>\n",
       "    </tr>\n",
       "    <tr>\n",
       "      <th>20660</th>\n",
       "      <td>1</td>\n",
       "      <td>Es bastante incomodo, el boton hay q mantenerl...</td>\n",
       "      <td>241</td>\n",
       "      <td>es</td>\n",
       "    </tr>\n",
       "    <tr>\n",
       "      <th>4445</th>\n",
       "      <td>2</td>\n",
       "      <td>Hoy por hoy podemos decir que Rubén Blades es ...</td>\n",
       "      <td>352</td>\n",
       "      <td>es</td>\n",
       "    </tr>\n",
       "    <tr>\n",
       "      <th>35163</th>\n",
       "      <td>2</td>\n",
       "      <td>Exelente para la decoracion, lo tengo hace ya ...</td>\n",
       "      <td>384</td>\n",
       "      <td>es</td>\n",
       "    </tr>\n",
       "    <tr>\n",
       "      <th>22619</th>\n",
       "      <td>1</td>\n",
       "      <td>bad product. One button fall. Amazon send me a...</td>\n",
       "      <td>182</td>\n",
       "      <td>es</td>\n",
       "    </tr>\n",
       "    <tr>\n",
       "      <th>4452</th>\n",
       "      <td>1</td>\n",
       "      <td>Compre el CD para investigar la musica de Jeri...</td>\n",
       "      <td>136</td>\n",
       "      <td>es</td>\n",
       "    </tr>\n",
       "    <tr>\n",
       "      <th>80409</th>\n",
       "      <td>2</td>\n",
       "      <td>son super comodos y combinan perfectamente par...</td>\n",
       "      <td>133</td>\n",
       "      <td>es</td>\n",
       "    </tr>\n",
       "    <tr>\n",
       "      <th>69737</th>\n",
       "      <td>1</td>\n",
       "      <td>el producto aun no ha llegado al lugar de dest...</td>\n",
       "      <td>139</td>\n",
       "      <td>es</td>\n",
       "    </tr>\n",
       "    <tr>\n",
       "      <th>74484</th>\n",
       "      <td>1</td>\n",
       "      <td>No he leido un libro tan más falso e ilógico q...</td>\n",
       "      <td>267</td>\n",
       "      <td>es</td>\n",
       "    </tr>\n",
       "    <tr>\n",
       "      <th>37622</th>\n",
       "      <td>1</td>\n",
       "      <td>Qué clase de broma es esta?Qué es?Spinetta deb...</td>\n",
       "      <td>163</td>\n",
       "      <td>es</td>\n",
       "    </tr>\n",
       "    <tr>\n",
       "      <th>104585</th>\n",
       "      <td>2</td>\n",
       "      <td>El nopal es FIBRA PURA y no permite que queden...</td>\n",
       "      <td>218</td>\n",
       "      <td>es</td>\n",
       "    </tr>\n",
       "    <tr>\n",
       "      <th>111563</th>\n",
       "      <td>2</td>\n",
       "      <td>He comprado varios de estos dicos para mi y pa...</td>\n",
       "      <td>144</td>\n",
       "      <td>es</td>\n",
       "    </tr>\n",
       "    <tr>\n",
       "      <th>4050</th>\n",
       "      <td>2</td>\n",
       "      <td>Excelente producto, las peliculas son de buena...</td>\n",
       "      <td>150</td>\n",
       "      <td>es</td>\n",
       "    </tr>\n",
       "    <tr>\n",
       "      <th>119943</th>\n",
       "      <td>2</td>\n",
       "      <td>Se refiere, básicamente, a cómo afirmar y mejo...</td>\n",
       "      <td>91</td>\n",
       "      <td>es</td>\n",
       "    </tr>\n",
       "    <tr>\n",
       "      <th>16146</th>\n",
       "      <td>1</td>\n",
       "      <td>Malo, malo, malo. Pésima grabacion y calidad s...</td>\n",
       "      <td>208</td>\n",
       "      <td>es</td>\n",
       "    </tr>\n",
       "    <tr>\n",
       "      <th>100423</th>\n",
       "      <td>1</td>\n",
       "      <td>Existen mejores sonidos, sonidos arm'nicos que...</td>\n",
       "      <td>443</td>\n",
       "      <td>es</td>\n",
       "    </tr>\n",
       "  </tbody>\n",
       "</table>\n",
       "</div>"
      ],
      "text/plain": [
       "        sentiment                                               text  length  \\\n",
       "17295           1  En español decimos \"voz chillona\" cuando el ti...     471   \n",
       "24628           1  Los zapatos son buenos pero escogi mal el tama...     106   \n",
       "11234           1  hola escribo para publicar que el diseño de es...     305   \n",
       "91093           2  Un micrófono legendario a buen precio. Aunque ...     405   \n",
       "94094           2  Este pequeño manual es ya un clasico de muchos...     436   \n",
       "109160          2  Pasaron muchos años para que Juan Gabriel saca...     151   \n",
       "28814           2  Encontré este disco por casualidad y me result...     319   \n",
       "83554           2  ¿Porque no era lo que esperaba? Leí Melocotone...     420   \n",
       "95537           2  Es una demostracion adicional de lo que es cap...     227   \n",
       "48206           2  ¿Que tan util es la informacion en este libro?...     439   \n",
       "76145           2  Simplemente, sin igual. Me tomo 3 vueltas del ...     271   \n",
       "97464           2  Muy seguro, y versatil segun como lo necesites...     201   \n",
       "107005          2  Al leer este libro en una clase de Maestría en...     247   \n",
       "13453           2  Exelente presentacion en 6 dvds, en estuche de...     340   \n",
       "114342          1  Me engañaron al comprar esto, los botones son ...     202   \n",
       "43171           2  Levi's Men's 501 Original Fit Jean, Light Ston...     177   \n",
       "64877           2  un concierto para bailar y escuchar si te gust...      84   \n",
       "59000           2  Poseo una camara olympus evolt 510 con dos len...     231   \n",
       "54769           1  Yamaha PSR340 61-Note Touch-Sensitive Portable...     271   \n",
       "56655           2  Espero que asi como se ven sean buenos,solo un...     217   \n",
       "49217           2  Si, la ventaja actual del consumidor es obtene...     165   \n",
       "38657           2  Soy católico inicialmente por la cultura que m...     365   \n",
       "8834            1  There are exceptions: Ciardi's Dante, Robert B...     153   \n",
       "87579           2  Todo ha sido excelente, la entrega fue en el l...     142   \n",
       "94981           2  Este producto es totalmente recomendable, en e...     378   \n",
       "115166          2  He leido algunos libros acerca del estrés y cr...     344   \n",
       "49739           2  Muy buen producto al igual que toda lo referen...     266   \n",
       "20660           1  Es bastante incomodo, el boton hay q mantenerl...     241   \n",
       "4445            2  Hoy por hoy podemos decir que Rubén Blades es ...     352   \n",
       "35163           2  Exelente para la decoracion, lo tengo hace ya ...     384   \n",
       "22619           1  bad product. One button fall. Amazon send me a...     182   \n",
       "4452            1  Compre el CD para investigar la musica de Jeri...     136   \n",
       "80409           2  son super comodos y combinan perfectamente par...     133   \n",
       "69737           1  el producto aun no ha llegado al lugar de dest...     139   \n",
       "74484           1  No he leido un libro tan más falso e ilógico q...     267   \n",
       "37622           1  Qué clase de broma es esta?Qué es?Spinetta deb...     163   \n",
       "104585          2  El nopal es FIBRA PURA y no permite que queden...     218   \n",
       "111563          2  He comprado varios de estos dicos para mi y pa...     144   \n",
       "4050            2  Excelente producto, las peliculas son de buena...     150   \n",
       "119943          2  Se refiere, básicamente, a cómo afirmar y mejo...      91   \n",
       "16146           1  Malo, malo, malo. Pésima grabacion y calidad s...     208   \n",
       "100423          1  Existen mejores sonidos, sonidos arm'nicos que...     443   \n",
       "\n",
       "       language  \n",
       "17295        es  \n",
       "24628        es  \n",
       "11234        es  \n",
       "91093        es  \n",
       "94094        es  \n",
       "109160       es  \n",
       "28814        es  \n",
       "83554        es  \n",
       "95537        es  \n",
       "48206        es  \n",
       "76145        es  \n",
       "97464        es  \n",
       "107005       es  \n",
       "13453        es  \n",
       "114342       es  \n",
       "43171        es  \n",
       "64877        es  \n",
       "59000        es  \n",
       "54769        es  \n",
       "56655        es  \n",
       "49217        es  \n",
       "38657        es  \n",
       "8834         es  \n",
       "87579        es  \n",
       "94981        es  \n",
       "115166       es  \n",
       "49739        es  \n",
       "20660        es  \n",
       "4445         es  \n",
       "35163        es  \n",
       "22619        es  \n",
       "4452         es  \n",
       "80409        es  \n",
       "69737        es  \n",
       "74484        es  \n",
       "37622        es  \n",
       "104585       es  \n",
       "111563       es  \n",
       "4050         es  \n",
       "119943       es  \n",
       "16146        es  \n",
       "100423       es  "
      ]
     },
     "execution_count": 53,
     "metadata": {},
     "output_type": "execute_result"
    }
   ],
   "source": [
    "# ¿Cual son las reseñas en español?\n",
    "df[df.language=='es']"
   ]
  },
  {
   "cell_type": "code",
   "execution_count": 54,
   "metadata": {},
   "outputs": [],
   "source": [
    "# Nos quedamos solo con aquellas que están escritas únicamente en inglés\n",
    "df = df[df['language']=='en']"
   ]
  },
  {
   "cell_type": "code",
   "execution_count": 55,
   "metadata": {},
   "outputs": [
    {
     "data": {
      "text/plain": [
       "(18022, 4)"
      ]
     },
     "execution_count": 55,
     "metadata": {},
     "output_type": "execute_result"
    }
   ],
   "source": [
    "# Comprobamos las dimensiones actuales del dataframe\n",
    "df.shape"
   ]
  },
  {
   "cell_type": "markdown",
   "metadata": {},
   "source": [
    "### BLOQUE E: Exportación del conjunto resultante\n",
    "\n",
    "En esta última fase exportamos y guardamos el conjunto de datos ya limpiado, procesado y adecuado en la carpeta 'data'. Solo guardaremos aquellas columnas que posteriormente nos serán útiles.\n",
    "Ya que hay bastante datos nos vamo"
   ]
  },
  {
   "cell_type": "code",
   "execution_count": 56,
   "metadata": {},
   "outputs": [],
   "source": [
    "# Eliminamos las columnas que ya no serán necesarias para los siguiente pasos\n",
    "df = df.drop(columns=['language'])"
   ]
  },
  {
   "cell_type": "code",
   "execution_count": 57,
   "metadata": {},
   "outputs": [
    {
     "data": {
      "text/html": [
       "<div>\n",
       "<style scoped>\n",
       "    .dataframe tbody tr th:only-of-type {\n",
       "        vertical-align: middle;\n",
       "    }\n",
       "\n",
       "    .dataframe tbody tr th {\n",
       "        vertical-align: top;\n",
       "    }\n",
       "\n",
       "    .dataframe thead th {\n",
       "        text-align: right;\n",
       "    }\n",
       "</style>\n",
       "<table border=\"1\" class=\"dataframe\">\n",
       "  <thead>\n",
       "    <tr style=\"text-align: right;\">\n",
       "      <th></th>\n",
       "      <th>sentiment</th>\n",
       "      <th>text</th>\n",
       "      <th>length</th>\n",
       "    </tr>\n",
       "  </thead>\n",
       "  <tbody>\n",
       "    <tr>\n",
       "      <th>52409</th>\n",
       "      <td>1</td>\n",
       "      <td>I got this product and only paid $10 for it. I...</td>\n",
       "      <td>376</td>\n",
       "    </tr>\n",
       "    <tr>\n",
       "      <th>42044</th>\n",
       "      <td>1</td>\n",
       "      <td>great cards but low quality. i spent all my $$...</td>\n",
       "      <td>146</td>\n",
       "    </tr>\n",
       "    <tr>\n",
       "      <th>101804</th>\n",
       "      <td>1</td>\n",
       "      <td>I really hated this book. Flyy girl was one of...</td>\n",
       "      <td>553</td>\n",
       "    </tr>\n",
       "    <tr>\n",
       "      <th>69916</th>\n",
       "      <td>1</td>\n",
       "      <td>Langston Hughes is definitely a better poet th...</td>\n",
       "      <td>301</td>\n",
       "    </tr>\n",
       "    <tr>\n",
       "      <th>94251</th>\n",
       "      <td>1</td>\n",
       "      <td>Note that, despite being called \"Norpro 422D G...</td>\n",
       "      <td>301</td>\n",
       "    </tr>\n",
       "  </tbody>\n",
       "</table>\n",
       "</div>"
      ],
      "text/plain": [
       "        sentiment                                               text  length\n",
       "52409           1  I got this product and only paid $10 for it. I...     376\n",
       "42044           1  great cards but low quality. i spent all my $$...     146\n",
       "101804          1  I really hated this book. Flyy girl was one of...     553\n",
       "69916           1  Langston Hughes is definitely a better poet th...     301\n",
       "94251           1  Note that, despite being called \"Norpro 422D G...     301"
      ]
     },
     "execution_count": 57,
     "metadata": {},
     "output_type": "execute_result"
    }
   ],
   "source": [
    "# muestreo proporcional\n",
    "df_sample = df.groupby('sentiment', group_keys=False).apply(\n",
    "    lambda x: x.sample(frac=0.4, random_state=2023)\n",
    ")\n",
    "\n",
    "df_sample.head()"
   ]
  },
  {
   "cell_type": "code",
   "execution_count": 58,
   "metadata": {},
   "outputs": [
    {
     "name": "stdout",
     "output_type": "stream",
     "text": [
      "Proporciones antes del muestreo:\n",
      "2    0.512096\n",
      "1    0.487904\n",
      "Name: sentiment, dtype: float64 \n",
      "\n",
      "Proporciones despues del muestreo:\n",
      "2    0.512138\n",
      "1    0.487862\n",
      "Name: sentiment, dtype: float64\n"
     ]
    }
   ],
   "source": [
    "# vamos a combrobar que las proporcionese se hay mantenido iguales\n",
    "print(\"Proporciones antes del muestreo:\")\n",
    "print(df['sentiment'].value_counts(normalize=True), \"\\n\")\n",
    "\n",
    "print(\"Proporciones despues del muestreo:\")\n",
    "print(df_sample['sentiment'].value_counts(normalize=True))"
   ]
  },
  {
   "cell_type": "code",
   "execution_count": 59,
   "metadata": {},
   "outputs": [],
   "source": [
    "# Guardamos los datos ya procesados en un fichero csv\n",
    "df_sample.to_csv('../data/amazon_reviews_clean.csv', index=False)"
   ]
  }
 ],
 "metadata": {
  "kernelspec": {
   "display_name": "Python 3",
   "language": "python",
   "name": "python3"
  },
  "language_info": {
   "codemirror_mode": {
    "name": "ipython",
    "version": 3
   },
   "file_extension": ".py",
   "mimetype": "text/x-python",
   "name": "python",
   "nbconvert_exporter": "python",
   "pygments_lexer": "ipython3",
   "version": "3.8.10"
  }
 },
 "nbformat": 4,
 "nbformat_minor": 2
}
