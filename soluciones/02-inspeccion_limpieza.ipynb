{
 "cells": [
  {
   "cell_type": "markdown",
   "metadata": {},
   "source": [
    "### Limpieza e inspección de los datos"
   ]
  },
  {
   "cell_type": "markdown",
   "metadata": {},
   "source": [
    "Este notebook está esturcturado como sigue:\n",
    "\n",
    "- **Importación de librerias**\n",
    "- **Bloque A**: carga de los datos.\n",
    "- **Bloque B**: inspección de los datos.\n",
    "- **Bloque C**: limpieza y adecuación.\n",
    "- **Bloque D**: exportación del conjunto resultante."
   ]
  },
  {
   "cell_type": "markdown",
   "metadata": {},
   "source": [
    "### Importación librerias"
   ]
  },
  {
   "cell_type": "code",
   "execution_count": 56,
   "metadata": {},
   "outputs": [],
   "source": [
    "import pandas as pd\n",
    "import re\n",
    "\n",
    "import cld3"
   ]
  },
  {
   "cell_type": "markdown",
   "metadata": {},
   "source": [
    "### BLOQUE A: Carga de los datos"
   ]
  },
  {
   "cell_type": "markdown",
   "metadata": {},
   "source": [
    "**Pandas**: librería más popular de python que proporciona las herramientas y estructuras necesarias para manipular y analizar datos. La estructura básica de Pandas es el **DataFrame**, una colección ordenada de columnas con nombres y tipos, donde una sola fila representa un único caso (observación) y las columnas representan atributos particulares.\n",
    "\n",
    "Guía: https://pandas.pydata.org/docs/getting_started/index.html"
   ]
  },
  {
   "cell_type": "code",
   "execution_count": 79,
   "metadata": {},
   "outputs": [],
   "source": [
    "# Leemos el CSV que contiene los datos y lo cargamos en memoria\n",
    "df = pd.read_csv(\"../data/amazon_reviews.csv\")"
   ]
  },
  {
   "cell_type": "markdown",
   "metadata": {},
   "source": [
    "### BLOQUE B: inspección de los datos"
   ]
  },
  {
   "cell_type": "markdown",
   "metadata": {},
   "source": [
    "El objetivo de la inspección es la familiarización con el conjunto de datos. Algunas preguntas iniciales que podría estar bien hacerse pueden ser:\n",
    "\n",
    "- ¿En qué tipo de objeto están almacenados los datos?\n",
    "- ¿Cuál es su dimensión?\n",
    "- ¿Hay datos ausentes?\n",
    "- ¿Que tipos diferentes de datos hay?\n",
    "- ..."
   ]
  },
  {
   "cell_type": "code",
   "execution_count": 80,
   "metadata": {},
   "outputs": [
    {
     "data": {
      "text/plain": [
       "pandas.core.frame.DataFrame"
      ]
     },
     "execution_count": 80,
     "metadata": {},
     "output_type": "execute_result"
    }
   ],
   "source": [
    "# Ver el tipo de objeto con el que estamos trabajando\n",
    "type(df)"
   ]
  },
  {
   "cell_type": "code",
   "execution_count": 81,
   "metadata": {},
   "outputs": [
    {
     "data": {
      "text/plain": [
       "(120000, 3)"
      ]
     },
     "execution_count": 81,
     "metadata": {},
     "output_type": "execute_result"
    }
   ],
   "source": [
    "# Dimensiones del dataframe\n",
    "df.shape"
   ]
  },
  {
   "cell_type": "code",
   "execution_count": 82,
   "metadata": {},
   "outputs": [
    {
     "name": "stdout",
     "output_type": "stream",
     "text": [
      "Hay un dataframe de 120000 filas y 3 columnas.\n"
     ]
    }
   ],
   "source": [
    "# Otra manera más interesante de proporcionar la misma información anterior\n",
    "print(f\"Hay un dataframe de {df.shape[0]} filas y {df.shape[1]} columnas.\")"
   ]
  },
  {
   "cell_type": "code",
   "execution_count": 83,
   "metadata": {},
   "outputs": [
    {
     "name": "stdout",
     "output_type": "stream",
     "text": [
      "<class 'pandas.core.frame.DataFrame'>\n",
      "RangeIndex: 120000 entries, 0 to 119999\n",
      "Data columns (total 3 columns):\n",
      " #   Column        Non-Null Count   Dtype \n",
      "---  ------        --------------   ----- \n",
      " 0   class_index   120000 non-null  int64 \n",
      " 1   review_title  119997 non-null  object\n",
      " 2   review_text   120000 non-null  object\n",
      "dtypes: int64(1), object(2)\n",
      "memory usage: 2.7+ MB\n"
     ]
    }
   ],
   "source": [
    "# Resumen conciso del dataframe\n",
    "df.info()"
   ]
  },
  {
   "cell_type": "code",
   "execution_count": 84,
   "metadata": {},
   "outputs": [
    {
     "data": {
      "text/html": [
       "<div>\n",
       "<style scoped>\n",
       "    .dataframe tbody tr th:only-of-type {\n",
       "        vertical-align: middle;\n",
       "    }\n",
       "\n",
       "    .dataframe tbody tr th {\n",
       "        vertical-align: top;\n",
       "    }\n",
       "\n",
       "    .dataframe thead th {\n",
       "        text-align: right;\n",
       "    }\n",
       "</style>\n",
       "<table border=\"1\" class=\"dataframe\">\n",
       "  <thead>\n",
       "    <tr style=\"text-align: right;\">\n",
       "      <th></th>\n",
       "      <th>class_index</th>\n",
       "      <th>review_title</th>\n",
       "      <th>review_text</th>\n",
       "    </tr>\n",
       "  </thead>\n",
       "  <tbody>\n",
       "    <tr>\n",
       "      <th>0</th>\n",
       "      <td>2</td>\n",
       "      <td>It's a Cheap Electric Finish Nailer; It's Not ...</td>\n",
       "      <td>I was given this as a gift after I complained ...</td>\n",
       "    </tr>\n",
       "    <tr>\n",
       "      <th>1</th>\n",
       "      <td>2</td>\n",
       "      <td>Frypan.</td>\n",
       "      <td>I've had this pan for about three years.It coo...</td>\n",
       "    </tr>\n",
       "    <tr>\n",
       "      <th>2</th>\n",
       "      <td>2</td>\n",
       "      <td>This is why Boorstin is one of my favorites</td>\n",
       "      <td>I love to read American history and Daniel Boo...</td>\n",
       "    </tr>\n",
       "    <tr>\n",
       "      <th>3</th>\n",
       "      <td>2</td>\n",
       "      <td>Great Memories</td>\n",
       "      <td>This is a memorable album, each track will war...</td>\n",
       "    </tr>\n",
       "    <tr>\n",
       "      <th>4</th>\n",
       "      <td>1</td>\n",
       "      <td>This book stinks</td>\n",
       "      <td>Even by adding Mary Higgins Clarks name to thi...</td>\n",
       "    </tr>\n",
       "  </tbody>\n",
       "</table>\n",
       "</div>"
      ],
      "text/plain": [
       "   class_index                                       review_title  \\\n",
       "0            2  It's a Cheap Electric Finish Nailer; It's Not ...   \n",
       "1            2                                            Frypan.   \n",
       "2            2        This is why Boorstin is one of my favorites   \n",
       "3            2                                     Great Memories   \n",
       "4            1                                   This book stinks   \n",
       "\n",
       "                                         review_text  \n",
       "0  I was given this as a gift after I complained ...  \n",
       "1  I've had this pan for about three years.It coo...  \n",
       "2  I love to read American history and Daniel Boo...  \n",
       "3  This is a memorable album, each track will war...  \n",
       "4  Even by adding Mary Higgins Clarks name to thi...  "
      ]
     },
     "execution_count": 84,
     "metadata": {},
     "output_type": "execute_result"
    }
   ],
   "source": [
    "# Mostrar las primeras 5 filas\n",
    "df.head()"
   ]
  },
  {
   "cell_type": "code",
   "execution_count": 85,
   "metadata": {},
   "outputs": [
    {
     "data": {
      "text/html": [
       "<div>\n",
       "<style scoped>\n",
       "    .dataframe tbody tr th:only-of-type {\n",
       "        vertical-align: middle;\n",
       "    }\n",
       "\n",
       "    .dataframe tbody tr th {\n",
       "        vertical-align: top;\n",
       "    }\n",
       "\n",
       "    .dataframe thead th {\n",
       "        text-align: right;\n",
       "    }\n",
       "</style>\n",
       "<table border=\"1\" class=\"dataframe\">\n",
       "  <thead>\n",
       "    <tr style=\"text-align: right;\">\n",
       "      <th></th>\n",
       "      <th>class_index</th>\n",
       "      <th>review_title</th>\n",
       "      <th>review_text</th>\n",
       "    </tr>\n",
       "  </thead>\n",
       "  <tbody>\n",
       "    <tr>\n",
       "      <th>119995</th>\n",
       "      <td>1</td>\n",
       "      <td>Width not the same as last pair puchased.</td>\n",
       "      <td>The last pair I got were marked medium width. ...</td>\n",
       "    </tr>\n",
       "    <tr>\n",
       "      <th>119996</th>\n",
       "      <td>1</td>\n",
       "      <td>not the original soap</td>\n",
       "      <td>This is not the original unscented ivory. They...</td>\n",
       "    </tr>\n",
       "    <tr>\n",
       "      <th>119997</th>\n",
       "      <td>1</td>\n",
       "      <td>Universal Lids</td>\n",
       "      <td>I have the large one tried to use it on coffee...</td>\n",
       "    </tr>\n",
       "    <tr>\n",
       "      <th>119998</th>\n",
       "      <td>1</td>\n",
       "      <td>Awkward toy</td>\n",
       "      <td>I got this toy for my daughter's 1st birthday,...</td>\n",
       "    </tr>\n",
       "    <tr>\n",
       "      <th>119999</th>\n",
       "      <td>2</td>\n",
       "      <td>Gets the job done</td>\n",
       "      <td>I don't think there is a product available tha...</td>\n",
       "    </tr>\n",
       "  </tbody>\n",
       "</table>\n",
       "</div>"
      ],
      "text/plain": [
       "        class_index                               review_title  \\\n",
       "119995            1  Width not the same as last pair puchased.   \n",
       "119996            1                      not the original soap   \n",
       "119997            1                             Universal Lids   \n",
       "119998            1                                Awkward toy   \n",
       "119999            2                          Gets the job done   \n",
       "\n",
       "                                              review_text  \n",
       "119995  The last pair I got were marked medium width. ...  \n",
       "119996  This is not the original unscented ivory. They...  \n",
       "119997  I have the large one tried to use it on coffee...  \n",
       "119998  I got this toy for my daughter's 1st birthday,...  \n",
       "119999  I don't think there is a product available tha...  "
      ]
     },
     "execution_count": 85,
     "metadata": {},
     "output_type": "execute_result"
    }
   ],
   "source": [
    "# Mostrar las últimas 5 filas\n",
    "df.tail()"
   ]
  },
  {
   "cell_type": "code",
   "execution_count": 86,
   "metadata": {},
   "outputs": [
    {
     "data": {
      "text/plain": [
       "array([2, 1])"
      ]
     },
     "execution_count": 86,
     "metadata": {},
     "output_type": "execute_result"
    }
   ],
   "source": [
    "# ¿Cuáles son los posibles valores que puede tomar la variable 'class_index'?\n",
    "df['class_index'].unique()"
   ]
  },
  {
   "cell_type": "markdown",
   "metadata": {},
   "source": [
    "La variable \"class_index\" indica el sentimiento de cada reseña:\n",
    "\n",
    "- 1: sentimiento negativo\n",
    "- 2: sentimiento positivo"
   ]
  },
  {
   "cell_type": "markdown",
   "metadata": {},
   "source": [
    "### BLOQUE C: limpieza y adecuación"
   ]
  },
  {
   "cell_type": "code",
   "execution_count": 87,
   "metadata": {},
   "outputs": [
    {
     "data": {
      "text/html": [
       "<div>\n",
       "<style scoped>\n",
       "    .dataframe tbody tr th:only-of-type {\n",
       "        vertical-align: middle;\n",
       "    }\n",
       "\n",
       "    .dataframe tbody tr th {\n",
       "        vertical-align: top;\n",
       "    }\n",
       "\n",
       "    .dataframe thead th {\n",
       "        text-align: right;\n",
       "    }\n",
       "</style>\n",
       "<table border=\"1\" class=\"dataframe\">\n",
       "  <thead>\n",
       "    <tr style=\"text-align: right;\">\n",
       "      <th></th>\n",
       "      <th>class_index</th>\n",
       "      <th>review_text</th>\n",
       "    </tr>\n",
       "  </thead>\n",
       "  <tbody>\n",
       "    <tr>\n",
       "      <th>0</th>\n",
       "      <td>2</td>\n",
       "      <td>I was given this as a gift after I complained ...</td>\n",
       "    </tr>\n",
       "    <tr>\n",
       "      <th>1</th>\n",
       "      <td>2</td>\n",
       "      <td>I've had this pan for about three years.It coo...</td>\n",
       "    </tr>\n",
       "    <tr>\n",
       "      <th>2</th>\n",
       "      <td>2</td>\n",
       "      <td>I love to read American history and Daniel Boo...</td>\n",
       "    </tr>\n",
       "    <tr>\n",
       "      <th>3</th>\n",
       "      <td>2</td>\n",
       "      <td>This is a memorable album, each track will war...</td>\n",
       "    </tr>\n",
       "    <tr>\n",
       "      <th>4</th>\n",
       "      <td>1</td>\n",
       "      <td>Even by adding Mary Higgins Clarks name to thi...</td>\n",
       "    </tr>\n",
       "  </tbody>\n",
       "</table>\n",
       "</div>"
      ],
      "text/plain": [
       "   class_index                                        review_text\n",
       "0            2  I was given this as a gift after I complained ...\n",
       "1            2  I've had this pan for about three years.It coo...\n",
       "2            2  I love to read American history and Daniel Boo...\n",
       "3            2  This is a memorable album, each track will war...\n",
       "4            1  Even by adding Mary Higgins Clarks name to thi..."
      ]
     },
     "execution_count": 87,
     "metadata": {},
     "output_type": "execute_result"
    }
   ],
   "source": [
    "# Eliminación de las columnas que no son utiles a nuestro estudio\n",
    "# Nos quedaremos solo con 'Revies'\n",
    "df = df.drop(columns=['review_title'])\n",
    "df.head()"
   ]
  },
  {
   "cell_type": "code",
   "execution_count": 88,
   "metadata": {},
   "outputs": [
    {
     "data": {
      "text/html": [
       "<div>\n",
       "<style scoped>\n",
       "    .dataframe tbody tr th:only-of-type {\n",
       "        vertical-align: middle;\n",
       "    }\n",
       "\n",
       "    .dataframe tbody tr th {\n",
       "        vertical-align: top;\n",
       "    }\n",
       "\n",
       "    .dataframe thead th {\n",
       "        text-align: right;\n",
       "    }\n",
       "</style>\n",
       "<table border=\"1\" class=\"dataframe\">\n",
       "  <thead>\n",
       "    <tr style=\"text-align: right;\">\n",
       "      <th></th>\n",
       "      <th>sentiment</th>\n",
       "      <th>text</th>\n",
       "    </tr>\n",
       "  </thead>\n",
       "  <tbody>\n",
       "    <tr>\n",
       "      <th>0</th>\n",
       "      <td>2</td>\n",
       "      <td>I was given this as a gift after I complained ...</td>\n",
       "    </tr>\n",
       "    <tr>\n",
       "      <th>1</th>\n",
       "      <td>2</td>\n",
       "      <td>I've had this pan for about three years.It coo...</td>\n",
       "    </tr>\n",
       "    <tr>\n",
       "      <th>2</th>\n",
       "      <td>2</td>\n",
       "      <td>I love to read American history and Daniel Boo...</td>\n",
       "    </tr>\n",
       "    <tr>\n",
       "      <th>3</th>\n",
       "      <td>2</td>\n",
       "      <td>This is a memorable album, each track will war...</td>\n",
       "    </tr>\n",
       "    <tr>\n",
       "      <th>4</th>\n",
       "      <td>1</td>\n",
       "      <td>Even by adding Mary Higgins Clarks name to thi...</td>\n",
       "    </tr>\n",
       "  </tbody>\n",
       "</table>\n",
       "</div>"
      ],
      "text/plain": [
       "   sentiment                                               text\n",
       "0          2  I was given this as a gift after I complained ...\n",
       "1          2  I've had this pan for about three years.It coo...\n",
       "2          2  I love to read American history and Daniel Boo...\n",
       "3          2  This is a memorable album, each track will war...\n",
       "4          1  Even by adding Mary Higgins Clarks name to thi..."
      ]
     },
     "execution_count": 88,
     "metadata": {},
     "output_type": "execute_result"
    }
   ],
   "source": [
    "\"\"\" \n",
    "Renombrar las columnas:\n",
    "    - review_text -> text\n",
    "    - class_index --> sentiment\n",
    "\"\"\"\n",
    "df.rename(columns={'review_text': 'text', 'class_index':'sentiment'}, inplace=True)\n",
    "\n",
    "df.head()"
   ]
  },
  {
   "cell_type": "code",
   "execution_count": 89,
   "metadata": {},
   "outputs": [],
   "source": [
    "# Calcular la longitud de cada reseña\n",
    "df['length'] = df['text'].apply(len)"
   ]
  },
  {
   "cell_type": "code",
   "execution_count": 90,
   "metadata": {},
   "outputs": [
    {
     "data": {
      "text/plain": [
       "count    120000.000000\n",
       "mean        404.359558\n",
       "std         234.059880\n",
       "min          15.000000\n",
       "25%         207.000000\n",
       "50%         355.000000\n",
       "75%         565.000000\n",
       "max        1007.000000\n",
       "Name: length, dtype: float64"
      ]
     },
     "execution_count": 90,
     "metadata": {},
     "output_type": "execute_result"
    }
   ],
   "source": [
    "# Resumen de la nueva columna \"length\"\n",
    "df['length'].describe()"
   ]
  },
  {
   "cell_type": "code",
   "execution_count": 91,
   "metadata": {},
   "outputs": [
    {
     "data": {
      "text/html": [
       "<div>\n",
       "<style scoped>\n",
       "    .dataframe tbody tr th:only-of-type {\n",
       "        vertical-align: middle;\n",
       "    }\n",
       "\n",
       "    .dataframe tbody tr th {\n",
       "        vertical-align: top;\n",
       "    }\n",
       "\n",
       "    .dataframe thead th {\n",
       "        text-align: right;\n",
       "    }\n",
       "</style>\n",
       "<table border=\"1\" class=\"dataframe\">\n",
       "  <thead>\n",
       "    <tr style=\"text-align: right;\">\n",
       "      <th></th>\n",
       "      <th>sentiment</th>\n",
       "      <th>text</th>\n",
       "      <th>length</th>\n",
       "    </tr>\n",
       "  </thead>\n",
       "  <tbody>\n",
       "    <tr>\n",
       "      <th>101991</th>\n",
       "      <td>2</td>\n",
       "      <td>Excellent book.</td>\n",
       "      <td>15</td>\n",
       "    </tr>\n",
       "  </tbody>\n",
       "</table>\n",
       "</div>"
      ],
      "text/plain": [
       "        sentiment             text  length\n",
       "101991          2  Excellent book.      15"
      ]
     },
     "execution_count": 91,
     "metadata": {},
     "output_type": "execute_result"
    }
   ],
   "source": [
    "# busqueda de los elementos con longitud mínima (15)\n",
    "df[df.length == 15]"
   ]
  },
  {
   "cell_type": "code",
   "execution_count": 92,
   "metadata": {},
   "outputs": [],
   "source": [
    "# Vamos a remover aquellos textos que tiene más de 565 caracteres (Q3)\n",
    "df = df[df.length <= 565]"
   ]
  },
  {
   "cell_type": "code",
   "execution_count": 93,
   "metadata": {},
   "outputs": [
    {
     "data": {
      "text/plain": [
       "(90055, 3)"
      ]
     },
     "execution_count": 93,
     "metadata": {},
     "output_type": "execute_result"
    }
   ],
   "source": [
    "# Comprobamos las dimensiones actuales del dataframe\n",
    "df.shape"
   ]
  },
  {
   "cell_type": "code",
   "execution_count": 94,
   "metadata": {},
   "outputs": [],
   "source": [
    "# Detección del idioma en el que está escrita cada reseña\n",
    "df['language'] = df['text'].apply(lambda x: cld3.get_language(x)[0])"
   ]
  },
  {
   "cell_type": "code",
   "execution_count": 95,
   "metadata": {},
   "outputs": [
    {
     "data": {
      "text/plain": [
       "en         89735\n",
       "es           219\n",
       "fr            18\n",
       "pt            10\n",
       "de             7\n",
       "it             5\n",
       "mg             5\n",
       "pl             4\n",
       "ca             4\n",
       "fy             4\n",
       "so             4\n",
       "ja             4\n",
       "cy             4\n",
       "mt             3\n",
       "no             2\n",
       "et             2\n",
       "nl             2\n",
       "ja-Latn        2\n",
       "lb             2\n",
       "el-Latn        2\n",
       "zu             1\n",
       "hi-Latn        1\n",
       "cs             1\n",
       "uz             1\n",
       "hmn            1\n",
       "sv             1\n",
       "sl             1\n",
       "da             1\n",
       "zh             1\n",
       "kk             1\n",
       "ha             1\n",
       "fil            1\n",
       "ny             1\n",
       "af             1\n",
       "fi             1\n",
       "gl             1\n",
       "la             1\n",
       "Name: language, dtype: int64"
      ]
     },
     "execution_count": 95,
     "metadata": {},
     "output_type": "execute_result"
    }
   ],
   "source": [
    "# ¿En que idioma están escritas las reseñas? ¿Cuantas reseñas tenemos para cada idioma?\n",
    "df['language'].value_counts()"
   ]
  },
  {
   "cell_type": "code",
   "execution_count": 96,
   "metadata": {},
   "outputs": [
    {
     "data": {
      "text/html": [
       "<div>\n",
       "<style scoped>\n",
       "    .dataframe tbody tr th:only-of-type {\n",
       "        vertical-align: middle;\n",
       "    }\n",
       "\n",
       "    .dataframe tbody tr th {\n",
       "        vertical-align: top;\n",
       "    }\n",
       "\n",
       "    .dataframe thead th {\n",
       "        text-align: right;\n",
       "    }\n",
       "</style>\n",
       "<table border=\"1\" class=\"dataframe\">\n",
       "  <thead>\n",
       "    <tr style=\"text-align: right;\">\n",
       "      <th></th>\n",
       "      <th>sentiment</th>\n",
       "      <th>text</th>\n",
       "      <th>length</th>\n",
       "      <th>language</th>\n",
       "    </tr>\n",
       "  </thead>\n",
       "  <tbody>\n",
       "    <tr>\n",
       "      <th>489</th>\n",
       "      <td>2</td>\n",
       "      <td>Que no tiene este cd. La electronica-rock lati...</td>\n",
       "      <td>191</td>\n",
       "      <td>es</td>\n",
       "    </tr>\n",
       "    <tr>\n",
       "      <th>1809</th>\n",
       "      <td>2</td>\n",
       "      <td>Marion Cotillard parece encriptada ,fusionada ...</td>\n",
       "      <td>261</td>\n",
       "      <td>es</td>\n",
       "    </tr>\n",
       "    <tr>\n",
       "      <th>3226</th>\n",
       "      <td>2</td>\n",
       "      <td>This season of prison break is a great oportun...</td>\n",
       "      <td>468</td>\n",
       "      <td>es</td>\n",
       "    </tr>\n",
       "    <tr>\n",
       "      <th>3689</th>\n",
       "      <td>2</td>\n",
       "      <td>Muy buen material. La voz de Edith luce espect...</td>\n",
       "      <td>119</td>\n",
       "      <td>es</td>\n",
       "    </tr>\n",
       "    <tr>\n",
       "      <th>3908</th>\n",
       "      <td>2</td>\n",
       "      <td>Paquita es una Dama del bolero del barrio y es...</td>\n",
       "      <td>278</td>\n",
       "      <td>es</td>\n",
       "    </tr>\n",
       "    <tr>\n",
       "      <th>...</th>\n",
       "      <td>...</td>\n",
       "      <td>...</td>\n",
       "      <td>...</td>\n",
       "      <td>...</td>\n",
       "    </tr>\n",
       "    <tr>\n",
       "      <th>116322</th>\n",
       "      <td>2</td>\n",
       "      <td>Estoy de cauerdo con que Emmanuelle esun gran ...</td>\n",
       "      <td>386</td>\n",
       "      <td>es</td>\n",
       "    </tr>\n",
       "    <tr>\n",
       "      <th>117206</th>\n",
       "      <td>1</td>\n",
       "      <td>Este album es basura, prefiero escuchar mucho ...</td>\n",
       "      <td>175</td>\n",
       "      <td>es</td>\n",
       "    </tr>\n",
       "    <tr>\n",
       "      <th>117331</th>\n",
       "      <td>2</td>\n",
       "      <td>Estimado amigo de la música, en estos momentos...</td>\n",
       "      <td>557</td>\n",
       "      <td>es</td>\n",
       "    </tr>\n",
       "    <tr>\n",
       "      <th>119701</th>\n",
       "      <td>1</td>\n",
       "      <td>Grabación en directo. Aunque el precio es bara...</td>\n",
       "      <td>189</td>\n",
       "      <td>es</td>\n",
       "    </tr>\n",
       "    <tr>\n",
       "      <th>119943</th>\n",
       "      <td>2</td>\n",
       "      <td>Se refiere, básicamente, a cómo afirmar y mejo...</td>\n",
       "      <td>91</td>\n",
       "      <td>es</td>\n",
       "    </tr>\n",
       "  </tbody>\n",
       "</table>\n",
       "<p>219 rows × 4 columns</p>\n",
       "</div>"
      ],
      "text/plain": [
       "        sentiment                                               text  length  \\\n",
       "489             2  Que no tiene este cd. La electronica-rock lati...     191   \n",
       "1809            2  Marion Cotillard parece encriptada ,fusionada ...     261   \n",
       "3226            2  This season of prison break is a great oportun...     468   \n",
       "3689            2  Muy buen material. La voz de Edith luce espect...     119   \n",
       "3908            2  Paquita es una Dama del bolero del barrio y es...     278   \n",
       "...           ...                                                ...     ...   \n",
       "116322          2  Estoy de cauerdo con que Emmanuelle esun gran ...     386   \n",
       "117206          1  Este album es basura, prefiero escuchar mucho ...     175   \n",
       "117331          2  Estimado amigo de la música, en estos momentos...     557   \n",
       "119701          1  Grabación en directo. Aunque el precio es bara...     189   \n",
       "119943          2  Se refiere, básicamente, a cómo afirmar y mejo...      91   \n",
       "\n",
       "       language  \n",
       "489          es  \n",
       "1809         es  \n",
       "3226         es  \n",
       "3689         es  \n",
       "3908         es  \n",
       "...         ...  \n",
       "116322       es  \n",
       "117206       es  \n",
       "117331       es  \n",
       "119701       es  \n",
       "119943       es  \n",
       "\n",
       "[219 rows x 4 columns]"
      ]
     },
     "execution_count": 96,
     "metadata": {},
     "output_type": "execute_result"
    }
   ],
   "source": [
    "# ¿Cual son las reseñas en español?\n",
    "df[df.language=='es']"
   ]
  },
  {
   "cell_type": "code",
   "execution_count": 97,
   "metadata": {},
   "outputs": [],
   "source": [
    "# Nos quedamos solo con aquellas que están escritas únicamente en inglés\n",
    "df = df[df['language']=='en']"
   ]
  },
  {
   "cell_type": "code",
   "execution_count": 98,
   "metadata": {},
   "outputs": [
    {
     "data": {
      "text/plain": [
       "(89735, 4)"
      ]
     },
     "execution_count": 98,
     "metadata": {},
     "output_type": "execute_result"
    }
   ],
   "source": [
    "# Comprobamos las dimensiones actuales del dataframe\n",
    "df.shape"
   ]
  },
  {
   "cell_type": "markdown",
   "metadata": {},
   "source": [
    "### BLOQUE E: Exportación del conjunto resultante\n",
    "\n",
    "En esta última fase exportamos y guardamos el conjunto de datos ya limpiado, procesado y adecuado en la carpeta 'data'. Solo guardaremos aquellas columnas que posteriormente nos serán útiles.\n",
    "Ya que hay bastante datos nos vamo"
   ]
  },
  {
   "cell_type": "code",
   "execution_count": 99,
   "metadata": {},
   "outputs": [],
   "source": [
    "# Eliminamos las columnas que ya no serán necesarias para los siguiente pasos\n",
    "df = df.drop(columns=['language'])"
   ]
  },
  {
   "cell_type": "code",
   "execution_count": 100,
   "metadata": {},
   "outputs": [
    {
     "data": {
      "text/html": [
       "<div>\n",
       "<style scoped>\n",
       "    .dataframe tbody tr th:only-of-type {\n",
       "        vertical-align: middle;\n",
       "    }\n",
       "\n",
       "    .dataframe tbody tr th {\n",
       "        vertical-align: top;\n",
       "    }\n",
       "\n",
       "    .dataframe thead th {\n",
       "        text-align: right;\n",
       "    }\n",
       "</style>\n",
       "<table border=\"1\" class=\"dataframe\">\n",
       "  <thead>\n",
       "    <tr style=\"text-align: right;\">\n",
       "      <th></th>\n",
       "      <th>sentiment</th>\n",
       "      <th>text</th>\n",
       "      <th>length</th>\n",
       "    </tr>\n",
       "  </thead>\n",
       "  <tbody>\n",
       "    <tr>\n",
       "      <th>452</th>\n",
       "      <td>1</td>\n",
       "      <td>This book was extremely well written and gripp...</td>\n",
       "      <td>513</td>\n",
       "    </tr>\n",
       "    <tr>\n",
       "      <th>72626</th>\n",
       "      <td>1</td>\n",
       "      <td>1. These wipes are all connected (not folded)....</td>\n",
       "      <td>449</td>\n",
       "    </tr>\n",
       "    <tr>\n",
       "      <th>11895</th>\n",
       "      <td>1</td>\n",
       "      <td>If you buy this don't expect to power it with ...</td>\n",
       "      <td>530</td>\n",
       "    </tr>\n",
       "    <tr>\n",
       "      <th>15203</th>\n",
       "      <td>1</td>\n",
       "      <td>I didn't think it could get much worse than th...</td>\n",
       "      <td>289</td>\n",
       "    </tr>\n",
       "    <tr>\n",
       "      <th>108134</th>\n",
       "      <td>1</td>\n",
       "      <td>1. The information states the hairpins are sil...</td>\n",
       "      <td>468</td>\n",
       "    </tr>\n",
       "  </tbody>\n",
       "</table>\n",
       "</div>"
      ],
      "text/plain": [
       "        sentiment                                               text  length\n",
       "452             1  This book was extremely well written and gripp...     513\n",
       "72626           1  1. These wipes are all connected (not folded)....     449\n",
       "11895           1  If you buy this don't expect to power it with ...     530\n",
       "15203           1  I didn't think it could get much worse than th...     289\n",
       "108134          1  1. The information states the hairpins are sil...     468"
      ]
     },
     "execution_count": 100,
     "metadata": {},
     "output_type": "execute_result"
    }
   ],
   "source": [
    "# muestreo proporcional\n",
    "df_sample = df.groupby('sentiment', group_keys=False).apply(\n",
    "    lambda x: x.sample(frac=0.4, random_state=2023)\n",
    ")\n",
    "\n",
    "df_sample.head()"
   ]
  },
  {
   "cell_type": "code",
   "execution_count": 101,
   "metadata": {},
   "outputs": [
    {
     "name": "stdout",
     "output_type": "stream",
     "text": [
      "Proporciones antes del muestreo:\n",
      "2    0.511907\n",
      "1    0.488093\n",
      "Name: sentiment, dtype: float64 \n",
      "\n",
      "Proporciones despues del muestreo:\n",
      "2    0.511896\n",
      "1    0.488104\n",
      "Name: sentiment, dtype: float64\n"
     ]
    }
   ],
   "source": [
    "# vamos a combrobar que las proporcionese se hay mantenido iguales\n",
    "print(\"Proporciones antes del muestreo:\")\n",
    "print(df['sentiment'].value_counts(normalize=True), \"\\n\")\n",
    "\n",
    "print(\"Proporciones despues del muestreo:\")\n",
    "print(df_sample['sentiment'].value_counts(normalize=True))"
   ]
  },
  {
   "cell_type": "code",
   "execution_count": 103,
   "metadata": {},
   "outputs": [],
   "source": [
    "# Guardamos los datos ya procesados en un fichero csv\n",
    "df_sample.to_csv('../data/amazon_reviews_clean.csv', index=False)"
   ]
  }
 ],
 "metadata": {
  "kernelspec": {
   "display_name": "Python 3",
   "language": "python",
   "name": "python3"
  },
  "language_info": {
   "codemirror_mode": {
    "name": "ipython",
    "version": 3
   },
   "file_extension": ".py",
   "mimetype": "text/x-python",
   "name": "python",
   "nbconvert_exporter": "python",
   "pygments_lexer": "ipython3",
   "version": "3.8.10"
  }
 },
 "nbformat": 4,
 "nbformat_minor": 2
}
