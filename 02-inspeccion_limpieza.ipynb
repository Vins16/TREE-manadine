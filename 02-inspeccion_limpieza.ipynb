{
 "cells": [
  {
   "cell_type": "markdown",
   "metadata": {},
   "source": [
    "### Limpieza e inspección de los datos"
   ]
  },
  {
   "cell_type": "markdown",
   "metadata": {},
   "source": [
    "Este notebook está esturcturado como sigue:\n",
    "\n",
    "- **Importación de librerias**\n",
    "- **Bloque A**: carga de los datos.\n",
    "- **Bloque B**: inspección de los datos.\n",
    "- **Bloque C**: limpieza y adecuación.\n",
    "- **Bloque D**: exportación del conjunto resultante."
   ]
  },
  {
   "cell_type": "markdown",
   "metadata": {},
   "source": [
    "### Importación librerias"
   ]
  },
  {
   "cell_type": "code",
   "execution_count": null,
   "metadata": {},
   "outputs": [],
   "source": [
    "import pandas as ??\n",
    "import re\n",
    "\n",
    "from langdetect import detect"
   ]
  },
  {
   "cell_type": "markdown",
   "metadata": {},
   "source": [
    "### BLOQUE A: Carga de los datos"
   ]
  },
  {
   "cell_type": "markdown",
   "metadata": {},
   "source": [
    "**Pandas**: librería más popular de python que proporciona las herramientas y estructuras necesarias para manipular y analizar datos. La estructura básica de Pandas es el **DataFrame**, una colección ordenada de columnas con nombres y tipos, donde una sola fila representa un único caso (observación) y las columnas representan atributos particulares.\n",
    "\n",
    "Guía: https://pandas.pydata.org/docs/getting_started/index.html"
   ]
  },
  {
   "cell_type": "code",
   "execution_count": null,
   "metadata": {},
   "outputs": [],
   "source": [
    "# Leemos el CSV que contiene los datos y lo cargamos en memoria\n",
    "df = pd.???(\"data/amazon_reviews.csv\", index_col=0)"
   ]
  },
  {
   "cell_type": "markdown",
   "metadata": {},
   "source": [
    "### BLOQUE B: inspección de los datos"
   ]
  },
  {
   "cell_type": "markdown",
   "metadata": {},
   "source": [
    "El objetivo de la inspección es la familiarización con el conjunto de datos. Algunas preguntas iniciales que podría estar bien hacerse pueden ser:\n",
    "\n",
    "- ¿En qué tipo de objeto están almacenados los datos?\n",
    "- ¿Cuál es su dimensión?\n",
    "- ¿Hay datos ausentes?\n",
    "- ¿Que tipos diferentes de datos hay?\n",
    "- ..."
   ]
  },
  {
   "cell_type": "code",
   "execution_count": null,
   "metadata": {},
   "outputs": [],
   "source": [
    "# Ver el tipo de objeto con el que estamos trabajando\n",
    "???(df)"
   ]
  },
  {
   "cell_type": "code",
   "execution_count": null,
   "metadata": {},
   "outputs": [],
   "source": [
    "# Dimensiones del dataframe\n",
    "df.???"
   ]
  },
  {
   "cell_type": "code",
   "execution_count": null,
   "metadata": {},
   "outputs": [],
   "source": [
    "# Otra manera más interesante de proporcionar la misma información anterior\n",
    "print(f\"Hay un dataframe de {df.shape[???]} filas y {df.shape[???]} columnas.\")"
   ]
  },
  {
   "cell_type": "code",
   "execution_count": null,
   "metadata": {},
   "outputs": [],
   "source": [
    "# Resumen conciso del dataframe\n",
    "df.???()"
   ]
  },
  {
   "cell_type": "code",
   "execution_count": null,
   "metadata": {},
   "outputs": [],
   "source": [
    "# Mostrar las primeras 5 filas\n",
    "df.???()"
   ]
  },
  {
   "cell_type": "code",
   "execution_count": null,
   "metadata": {},
   "outputs": [],
   "source": [
    "# Mostrar las últimas 5 filas\n",
    "df.???()"
   ]
  },
  {
   "cell_type": "code",
   "execution_count": null,
   "metadata": {},
   "outputs": [],
   "source": [
    "# ¿Cuáles son los posibles valores que puede tomar la variable 'class_index'?\n",
    "df['???'].unique()"
   ]
  },
  {
   "cell_type": "markdown",
   "metadata": {},
   "source": [
    "La variable \"class_index\" indica el sentimiento de cada reseña:\n",
    "\n",
    "- 1: sentimiento negativo\n",
    "- 2: sentimiento positivo"
   ]
  },
  {
   "cell_type": "markdown",
   "metadata": {},
   "source": [
    "### BLOQUE C: limpieza y adecuación"
   ]
  },
  {
   "cell_type": "code",
   "execution_count": null,
   "metadata": {},
   "outputs": [],
   "source": [
    "# Eliminación de las columnas que no son utiles a nuestro estudio\n",
    "# Nos quedaremos solo con las reviews\n",
    "df = df.???(columns=['review_title'])\n",
    "df.head()"
   ]
  },
  {
   "cell_type": "code",
   "execution_count": null,
   "metadata": {},
   "outputs": [],
   "source": [
    "#Renombrar las columnas:\n",
    "#    - review_text -> text\n",
    "#    - class_index --> sentiment\n",
    "df.???(columns={'review_text': 'text', 'class_index':'sentiment'}, inplace=True)\n",
    "\n",
    "df.head()"
   ]
  },
  {
   "cell_type": "code",
   "execution_count": null,
   "metadata": {},
   "outputs": [],
   "source": [
    "# Calcular la longitud de cada reseña\n",
    "df['length'] = df['text'].???(len)"
   ]
  },
  {
   "cell_type": "code",
   "execution_count": null,
   "metadata": {},
   "outputs": [],
   "source": [
    "# Resumen de la nueva columna \"length\"\n",
    "df['length'].???()"
   ]
  },
  {
   "cell_type": "code",
   "execution_count": null,
   "metadata": {},
   "outputs": [],
   "source": [
    "# Búsqueda de los elementos con longitud mínima \n",
    "df[df.??? == ???]"
   ]
  },
  {
   "cell_type": "code",
   "execution_count": null,
   "metadata": {},
   "outputs": [],
   "source": [
    "# Vamos a eliminar aquellos textos que tienen una longitud mayor que la del valor de Q3.\n",
    "df = df[df.length ??? ???]"
   ]
  },
  {
   "cell_type": "code",
   "execution_count": null,
   "metadata": {},
   "outputs": [],
   "source": [
    "# Comprobamos las dimensiones actuales del dataframe\n",
    "df.???"
   ]
  },
  {
   "cell_type": "code",
   "execution_count": null,
   "metadata": {},
   "outputs": [],
   "source": [
    "# Detección del idioma en el que está escrita cada reseña\n",
    "df['language'] = df['text'].???(detect)"
   ]
  },
  {
   "cell_type": "code",
   "execution_count": null,
   "metadata": {},
   "outputs": [],
   "source": [
    "# ¿En que idioma están escritas las reseñas? ¿Cuantas reseñas tenemos para cada idioma?\n",
    "df['language'].???()"
   ]
  },
  {
   "cell_type": "code",
   "execution_count": null,
   "metadata": {},
   "outputs": [],
   "source": [
    "# ¿Cual son las reseñas en español?\n",
    "df[df.language=='???']"
   ]
  },
  {
   "cell_type": "code",
   "execution_count": null,
   "metadata": {},
   "outputs": [],
   "source": [
    "# Nos quedamos solo con aquellas que están escritas únicamente en inglés\n",
    "df = df[df['language']=='???']"
   ]
  },
  {
   "cell_type": "code",
   "execution_count": null,
   "metadata": {},
   "outputs": [],
   "source": [
    "# Comprobamos las dimensiones actuales del dataframe\n",
    "df.???"
   ]
  },
  {
   "cell_type": "markdown",
   "metadata": {},
   "source": [
    "### BLOQUE E: Exportación del conjunto resultante\n",
    "\n",
    "En esta última fase exportamos y guardamos el conjunto de datos ya limpiado, procesado y adecuado en la carpeta 'data'. Solo guardaremos aquellas columnas que posteriormente nos serán útiles.\n",
    "Ya que hay demasiados datos, vamos a quedarnos únicamente con una muestra representativa de todo el conjunto. Esa muestra será la que guardemos y utilicemos en nuestra próxima tarea."
   ]
  },
  {
   "cell_type": "code",
   "execution_count": null,
   "metadata": {},
   "outputs": [],
   "source": [
    "# Eliminamos las columnas que ya no serán necesarias para los siguiente pasos\n",
    "df = df.???(columns=['language'])"
   ]
  },
  {
   "cell_type": "code",
   "execution_count": null,
   "metadata": {},
   "outputs": [],
   "source": [
    "# Muestreo proporcional \n",
    "df_sample = df.???('sentiment', group_keys=False).apply(\n",
    "    lambda x: x.???(???=0.4, random_state=2023)\n",
    ")\n",
    "\n",
    "df_sample.head()"
   ]
  },
  {
   "cell_type": "code",
   "execution_count": null,
   "metadata": {},
   "outputs": [],
   "source": [
    "# Comprobamos que las proporciones se hayan mantenido iguales\n",
    "print(\"Proporciones antes del muestreo:\")\n",
    "print(df['sentiment'].???(normalize=True), \"\\n\")\n",
    "\n",
    "print(\"Proporciones despues del muestreo:\")\n",
    "print(df_sample['sentiment'].???(normalize=True))"
   ]
  },
  {
   "cell_type": "code",
   "execution_count": null,
   "metadata": {},
   "outputs": [],
   "source": [
    "# Guardamos los datos ya procesados en un fichero .csv\n",
    "df_sample.???('data/amazon_reviews_clean.csv', index=False)"
   ]
  }
 ],
 "metadata": {
  "kernelspec": {
   "display_name": "Python 3",
   "language": "python",
   "name": "python3"
  },
  "language_info": {
   "codemirror_mode": {
    "name": "ipython",
    "version": 3
   },
   "file_extension": ".py",
   "mimetype": "text/x-python",
   "name": "python",
   "nbconvert_exporter": "python",
   "pygments_lexer": "ipython3",
   "version": "3.8.10"
  }
 },
 "nbformat": 4,
 "nbformat_minor": 2
}
